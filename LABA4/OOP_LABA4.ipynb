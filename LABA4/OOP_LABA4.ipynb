{
 "cells": [
  {
   "cell_type": "markdown",
   "source": [
    "# Лабораторная работа 4\n",
    "## СОЗДАНИЕ ГРАФИЧЕСКОГО ИНТЕРФЕЙСА ПОЛЬЗОВАТЕЛЯ В PYTHON"
   ],
   "metadata": {
    "collapsed": false,
    "pycharm": {
     "name": "#%% md\n"
    }
   }
  },
  {
   "cell_type": "markdown",
   "source": [
    "### Задание 1.\n",
    "Разберите, реализуйте в системе программирования и протестируйте программу, cоответствующую примеру лекции на создание и конфигурирование виджетов (слайд 6, лекция по GUI часть 2). Измените программу так, чтобы размер шрифта также задавался случайным образом.\n",
    "\n",
    "![](41.png)"
   ],
   "metadata": {
    "collapsed": false,
    "pycharm": {
     "name": "#%% md\n"
    }
   }
  },
  {
   "cell_type": "code",
   "execution_count": 2,
   "outputs": [],
   "source": [
    "from tkinter import *\n",
    "import random\n",
    "\n",
    "def btn_clicked():\n",
    "    randcolor = \"#\"+''.join([random.choice('0123456789ABCDEF') for _ in range(6)])\n",
    "    randfontsize = random.randint(10, 32) # случайный размер шрифта от 10 до 32\n",
    "    lbl['fg'] = randcolor\n",
    "    lbl['font'] = (\"Arial Bold\", randfontsize)\n",
    "\n",
    "window = Tk()\n",
    "lbl = Label(window,\n",
    "            text=\"Конфигурированный текст\",\n",
    "            font=(\"Arial Bold\", 32))\n",
    "btn = Button(window,\n",
    "             text=\"Изменить цвет и размер шрифта\",\n",
    "             command=btn_clicked)\n",
    "lbl.pack()\n",
    "btn.pack()\n",
    "window.mainloop()"
   ],
   "metadata": {
    "collapsed": false,
    "pycharm": {
     "name": "#%%\n"
    }
   }
  },
  {
   "cell_type": "markdown",
   "source": [
    "### Задание 2.\n",
    "Разберите, реализуйте в системе программирования и протестируйте программу, соответствующую примеру лекции на различные варианты использование метода pack() (слайд 5, лекция по GUI часть 2).  Измените программу так, чтобы количество меток определялось константой N внутри программы, метки создавались и отображались с использованием цикла; размещение: снизу-вверх с отступом 10, цвет – задан случайным образом.\n",
    "\n",
    "![](42.png)"
   ],
   "metadata": {
    "collapsed": false,
    "pycharm": {
     "name": "#%% md\n"
    }
   }
  },
  {
   "cell_type": "code",
   "execution_count": 7,
   "outputs": [],
   "source": [
    "from tkinter import *\n",
    "import random\n",
    "\n",
    "def random_color():\n",
    "    return \"#\"+''.join([random.choice('0123456789ABCDEF') for _ in range(6)])\n",
    "\n",
    "root = Tk()\n",
    "N = 5\n",
    "\n",
    "labels = [Label(width=7, height=2, bg=random_color(), text=str(i + 1)).pack(side='bottom', pady=10) for i in range(N)]\n",
    "\n",
    "root.mainloop()"
   ],
   "metadata": {
    "collapsed": false,
    "pycharm": {
     "name": "#%%\n"
    }
   }
  },
  {
   "cell_type": "markdown",
   "source": [
    "### Задание 3.\n",
    "Разберите, реализуйте в системе программирования и протестируйте программу, соответствующую примеру лекции на различные варианты использование метода grid() (слайд 9). Измените программу так, чтобы количество строк и столбцов меток определялось константами N и M внутри программы, метки создавались и отображались с использованием цикла; размещение: в виде таблицы, цвет – задан случайным образом.\n",
    "\n",
    "![](43.png)"
   ],
   "metadata": {
    "collapsed": false,
    "pycharm": {
     "name": "#%% md\n"
    }
   }
  },
  {
   "cell_type": "code",
   "execution_count": 10,
   "outputs": [],
   "source": [
    "from tkinter import *\n",
    "import random\n",
    "\n",
    "# Функция для генерации случайного цвета\n",
    "def random_color():\n",
    "    return \"#\" + ''.join([random.choice('0123456789ABCDEF') for _ in range(6)])\n",
    "\n",
    "root = Tk()\n",
    "N, M = 3, 3 # Константы для определения количества строк и столбцов\n",
    "\n",
    "# Создаем и размещаем метки в сетке NxM с использованием циклов\n",
    "[Label(\n",
    "    root,\n",
    "    width=7,\n",
    "    height=2,\n",
    "    bg=random_color(),\n",
    "    text=f\"{i + 1},{j + 1}\"\n",
    ").grid(row=i, column=j, padx=5, pady=5, sticky='nsew') for i in range(N) for j in range(M)]\n",
    "\n",
    "# Конфигурация строк и столбцов для изменения размера с использованием спискового включения\n",
    "[root.grid_rowconfigure(i, weight=1) for i in range(N)]\n",
    "[root.grid_columnconfigure(j, weight=1) for j in range(M)]\n",
    "\n",
    "root.mainloop()"
   ],
   "metadata": {
    "collapsed": false,
    "pycharm": {
     "name": "#%%\n"
    }
   }
  },
  {
   "cell_type": "markdown",
   "source": [
    "### Задание 4.\n",
    "Разберите, реализуйте в системе программирования и протестируйте программу, соответствующую примеру лекции на создание пользовательского окна (слайд 11). Пронаблюдайте, как меняется окно при изменении его размеров пользователем.\n",
    "Определите, какие значения параметров помогают в этом (устно).\n",
    "\n",
    "![](44.png)"
   ],
   "metadata": {
    "collapsed": false,
    "pycharm": {
     "name": "#%% md\n"
    }
   }
  },
  {
   "cell_type": "code",
   "execution_count": 12,
   "outputs": [],
   "source": [
    "from tkinter import *\n",
    "\n",
    "class Example(Frame):\n",
    "    \"\"\"\n",
    "    Класс Example создает GUI с использованием Tkinter.\n",
    "\n",
    "    Этот класс унаследован от Frame и использует менеджер геометрии grid для размещения виджетов.\n",
    "    \"\"\"\n",
    "\n",
    "    def __init__(self):\n",
    "        \"\"\"\n",
    "        Конструктор класса.\n",
    "\n",
    "        Инициализирует суперкласс и вызывает метод для инициализации GUI.\n",
    "        \"\"\"\n",
    "        super().__init__()\n",
    "        self.my_init()\n",
    "\n",
    "    def my_init(self):\n",
    "        \"\"\"\n",
    "        Инициализация GUI.\n",
    "\n",
    "        Этот метод создает и размещает виджеты, а также устанавливает свойства изменения размера виджетов.\n",
    "        \"\"\"\n",
    "        # Заголовок главного окна\n",
    "        self.master.title(\"Диалоговое окно в Tkinter\")\n",
    "\n",
    "        # Разрешаем рамке изменять свой размер и \"прикрепляем\" её ко всем сторонам окна\n",
    "        self.pack(fill=BOTH, expand=True)\n",
    "\n",
    "        # Конфигурируем изменение размера столбцов и строк\n",
    "        self.columnconfigure(1, weight=1)\n",
    "        self.columnconfigure(3, pad=7)\n",
    "        self.rowconfigure(3, weight=1)\n",
    "        self.rowconfigure(5, pad=7)\n",
    "\n",
    "        # Создаем и размещаем виджеты в окне\n",
    "        lbl = Label(self, text=\"Файл\")\n",
    "        lbl.grid(sticky=W, pady=4, padx=5)\n",
    "\n",
    "        # Текстовое поле будет изменять свой размер во всех направлениях\n",
    "        area = Text(self)\n",
    "        area.grid(row=1, column=0, columnspan=2, rowspan=4, padx=5, sticky=E+W+S+N)\n",
    "\n",
    "        # Создаем и размещаем кнопки\n",
    "        abtn = Button(self, text=\"Открыть\")\n",
    "        abtn.grid(row=1, column=3)\n",
    "        cbtn = Button(self, text=\"Закрыть\")\n",
    "        cbtn.grid(row=2, column=3, pady=4)\n",
    "        hbtn = Button(self, text=\"Помощь\")\n",
    "        hbtn.grid(row=5, column=0, padx=5)\n",
    "        obtn = Button(self, text=\"Готово\")\n",
    "        obtn.grid(row=5, column=3)\n",
    "\n",
    "\n",
    "def main():\n",
    "    \"\"\"\n",
    "    Главная функция.\n",
    "    Создает экземпляр класса Example, устанавливает геометрию окна и запускает главный цикл Tkinter.\n",
    "    \"\"\"\n",
    "root = Tk()\n",
    "root.geometry(\"350x300+300+300\")\n",
    "app = Example()\n",
    "root.mainloop()\n",
    "\n",
    "if __name__ == '__main__':\n",
    "    main()"
   ],
   "metadata": {
    "collapsed": false,
    "pycharm": {
     "name": "#%%\n"
    }
   }
  },
  {
   "cell_type": "markdown",
   "source": [
    "Пример представляет собой окно Tkinter, которое создается с использованием класса `Example`, унаследованного от `Frame` (рамка). Для создания пользовательского интерфейса используется метод `grid()`. В коде нет совместного использования `pack()` и `grid()`, потому что их совместное использование в одном и том же мастер-окне/контейнере вызывает ошибку.\n",
    "\n",
    "`self.pack(fill=BOTH, expand=True)` применяется к главной рамке (которая является контейнером для других виджетов), а `grid()` используется для управления расположением виджетов внутри этой рамки.\n",
    "\n",
    "Параметры и методы, которые помогают при изменении размеров окна пользователем:\n",
    "\n",
    "- `self.pack(fill=BOTH, expand=True)`: Этот метод делает рамку (`Frame`) расширяемой и изменяющей свой размер вместе с изменением размера окна. Параметр `fill=BOTH` указывает, что рамка должна расширяться и сжиматься по обеим осям (горизонтальной и вертикальной), а `expand=True` гарантирует, что она будет занимать все доступное пространство.\n",
    "\n",
    "- `self.columnconfigure(index, weight=1)`, `self.rowconfigure(index, weight=1)`: Эти методы делают определенные строки и столбцы в сетке \"эластичными\" (то есть, они изменяют свой размер при изменении размера окна). Параметр `weight` определяет, как будет распределено доступное пространство между строками/столбцами при изменении размера окна. Если у нескольких строк/столбцов одинаковый вес, пространство будет распределено между ними поровну.\n",
    "\n",
    "- `sticky`: Этот параметр используется в методе `grid()` для указания того, к какой стороне ячейки сетки приклеивается виджет. Например, `sticky=E+W+S+N` означает, что виджет будет \"приклеен\" ко всем четырем сторонам ячейки, и, следовательно, будет изменять свой размер вместе с изменением размера ячейки.\n",
    "\n",
    "- `padx`, `pady`: Эти параметры используются в методе `grid()` для создания горизонтальных и вертикальных отступов между виджетами."
   ],
   "metadata": {
    "collapsed": false,
    "pycharm": {
     "name": "#%% md\n"
    }
   }
  },
  {
   "cell_type": "markdown",
   "source": [
    "### Задание 5.\n",
    "Разберите, реализуйте в системе программирования и протестируйте программу, соответствующую примеру лекции на использование метода place() (слайд 12). Пронаблюдайте, как меняется расположение и размер компонентов при изменении размеров окна пользователем. Объясните, почему каждый из компонентов ведет себя именно так (устно).\n",
    "\n",
    "![](45.png)"
   ],
   "metadata": {
    "collapsed": false,
    "pycharm": {
     "name": "#%% md\n"
    }
   }
  },
  {
   "cell_type": "code",
   "execution_count": 14,
   "outputs": [],
   "source": [
    "from tkinter import *\n",
    "\n",
    "root=Tk()\n",
    "l1=Label(bg='yellow', text=\"1\")\n",
    "l2=Label(bg='orange', text=\"2\")\n",
    "l3=Label(bg='lightgreen', text=\"3\")\n",
    "l4=Label(bg='lightblue', text=\"4\")\n",
    "l5=Label(bg='green', text=\"5\")\n",
    "l1.place(relwidth=0.25, relheight=0.25)\n",
    "l2.place(x=100, anchor=N, width=100, height=50)\n",
    "l3.place(relx=0.5, rely=0.5, anchor=CENTER, relwidth=0.5, relheight=0.5)\n",
    "l4.place(in_=l3, anchor=NW, x=2, y=2, relx=0.5, rely=0.5,relwidth=0.5, relheight=0.5)\n",
    "l5.place(x=200, y=200, anchor=SE, relwidth=0.25, relheight=0.25)\n",
    "root.mainloop()"
   ],
   "metadata": {
    "collapsed": false,
    "pycharm": {
     "name": "#%%\n"
    }
   }
  },
  {
   "cell_type": "markdown",
   "source": [
    "1. **l1**: Размещается в левом верхнем углу, занимая 25% ширины и высоты окна благодаря `relwidth=0.25` и `relheight=0.25`. При изменении размера окна размер и положение `l1` также изменяются.\n",
    "\n",
    "2. **l2**: Располагается с верхним якорем (`anchor=N`) и имеет абсолютное позиционирование (`x=100`). Ширина и высота фиксированы (`width=100, height=50`), и они не меняются при изменении размера окна.\n",
    "\n",
    "3. **l3**: Центрируется в окне (`relx=0.5, rely=0.5, anchor=CENTER`) и занимает 50% его ширины и высоты (`relwidth=0.5, relheight=0.5`). Поэтому, при изменении размера окна, `l3` сохраняет свои пропорции и остается в центре.\n",
    "\n",
    "4. **l4**: Расположен внутри `l3` и центрируется относительно него (`relx=0.5, rely=0.5`), но смещен на 2 пикселя по обеим осям (`x=2, y=2`) относительно левого верхнего угла (`anchor=NW`). Он занимает 50% ширины и высоты `l3` и меняет свой размер вместе с `l3`.\n",
    "\n",
    "5. **l5**: Располагается с якорем в правом нижнем углу (`anchor=SE`) и имеет абсолютное позиционирование от этой точки (`x=200, y=200`). Он занимает 25% ширины и высоты окна (`relwidth=0.25, relheight=0.25`), изменяя свой размер при изменении размера окна, но сохраняя абсолютное позиционирование."
   ],
   "metadata": {
    "collapsed": false,
    "pycharm": {
     "name": "#%% md\n"
    }
   }
  },
  {
   "cell_type": "markdown",
   "source": [
    "### Задание 6.\n",
    "Разберите и повторите в Python примеры, приведенные в «Обучение Python GUI (уроки по Tkinter)» до раздела «Добавление виджета Combobox»."
   ],
   "metadata": {
    "collapsed": false,
    "pycharm": {
     "name": "#%% md\n"
    }
   }
  },
  {
   "cell_type": "markdown",
   "source": [
    "#### Создание своего первого графического интерфейса"
   ],
   "metadata": {
    "collapsed": false,
    "pycharm": {
     "name": "#%% md\n"
    }
   }
  },
  {
   "cell_type": "code",
   "execution_count": 15,
   "outputs": [],
   "source": [
    "from tkinter import *\n",
    "\n",
    "\n",
    "window = Tk()\n",
    "window.title(\"Добро пожаловать в приложение PythonRu\")\n",
    "window.mainloop()"
   ],
   "metadata": {
    "collapsed": false,
    "pycharm": {
     "name": "#%%\n"
    }
   }
  },
  {
   "cell_type": "markdown",
   "source": [
    "#### Создание виджета Label"
   ],
   "metadata": {
    "collapsed": false,
    "pycharm": {
     "name": "#%% md\n"
    }
   }
  },
  {
   "cell_type": "code",
   "execution_count": 16,
   "outputs": [],
   "source": [
    "from tkinter import *\n",
    "\n",
    "\n",
    "window = Tk()\n",
    "window.title(\"Добро пожаловать в приложение PythonRu\")\n",
    "lbl = Label(window, text=\"Привет\")\n",
    "lbl.grid(column=0, row=0)\n",
    "window.mainloop()"
   ],
   "metadata": {
    "collapsed": false,
    "pycharm": {
     "name": "#%%\n"
    }
   }
  },
  {
   "cell_type": "markdown",
   "source": [
    "#### Добавление виджета Button"
   ],
   "metadata": {
    "collapsed": false,
    "pycharm": {
     "name": "#%% md\n"
    }
   }
  },
  {
   "cell_type": "code",
   "execution_count": 18,
   "outputs": [],
   "source": [
    "from tkinter import *\n",
    "\n",
    "\n",
    "window = Tk()\n",
    "window.title(\"Добро пожаловать в приложение PythonRu\")\n",
    "window.geometry('400x250')\n",
    "lbl = Label(window, text=\"Привет\", font=(\"Arial Bold\", 50))\n",
    "lbl.grid(column=0, row=0)\n",
    "btn = Button(window, text=\"Не нажимать!\")\n",
    "btn.grid(column=1, row=0)\n",
    "window.mainloop()"
   ],
   "metadata": {
    "collapsed": false,
    "pycharm": {
     "name": "#%%\n"
    }
   }
  },
  {
   "cell_type": "markdown",
   "source": [
    "#### Кнопка Click"
   ],
   "metadata": {
    "collapsed": false,
    "pycharm": {
     "name": "#%% md\n"
    }
   }
  },
  {
   "cell_type": "code",
   "execution_count": 19,
   "outputs": [],
   "source": [
    "from tkinter import *\n",
    "\n",
    "\n",
    "def clicked():\n",
    "    lbl.configure(text=\"Я же просил...\")\n",
    "\n",
    "\n",
    "window = Tk()\n",
    "window.title(\"Добро пожаловать в приложение PythonRu\")\n",
    "window.geometry('400x250')\n",
    "lbl = Label(window, text=\"Привет\", font=(\"Arial Bold\", 50))\n",
    "lbl.grid(column=0, row=0)\n",
    "btn = Button(window, text=\"Не нажимать!\", command=clicked)\n",
    "btn.grid(column=1, row=0)\n",
    "window.mainloop()"
   ],
   "metadata": {
    "collapsed": false,
    "pycharm": {
     "name": "#%%\n"
    }
   }
  },
  {
   "cell_type": "markdown",
   "source": [
    "#### Получение ввода с использованием класса Entry (текстовое поле Tkinter)"
   ],
   "metadata": {
    "collapsed": false,
    "pycharm": {
     "name": "#%% md\n"
    }
   }
  },
  {
   "cell_type": "code",
   "execution_count": 20,
   "outputs": [],
   "source": [
    "from tkinter import *\n",
    "\n",
    "\n",
    "def clicked():\n",
    "    res = \"Привет {}\".format(txt.get())\n",
    "    lbl.configure(text=res)\n",
    "\n",
    "\n",
    "window = Tk()\n",
    "window.title(\"Добро пожаловать в приложение PythonRu\")\n",
    "window.geometry('400x250')\n",
    "lbl = Label(window, text=\"Привет\")\n",
    "lbl.grid(column=0, row=0)\n",
    "txt = Entry(window,width=10)\n",
    "txt.grid(column=1, row=0)\n",
    "btn = Button(window, text=\"Клик!\", command=clicked)\n",
    "btn.grid(column=2, row=0)\n",
    "window.mainloop()"
   ],
   "metadata": {
    "collapsed": false,
    "pycharm": {
     "name": "#%%\n"
    }
   }
  },
  {
   "cell_type": "markdown",
   "source": [
    "### Задание 7.\n",
    "Самостоятельно создайте интерфейс программы, которая будет позволять пользователю вводить в текстовое поле целое число, а по нажатию на кнопку – вычислять значение квадрата этого числа и выводить:\n",
    "а) в первую метку вместо «Введите число:»\n",
    "б) во вторую метку «Ответ:», которую нужно разместить ниже.\n",
    "Заголовок окна изменить на «Квадрат числа»\n",
    "Примечание. В метку можно выводить только строковые величины, а вычислять квадрат можно\n",
    "для числовых значений, поэтому необходимо использовать функции int, float, str."
   ],
   "metadata": {
    "collapsed": false,
    "pycharm": {
     "name": "#%% md\n"
    }
   }
  },
  {
   "cell_type": "code",
   "execution_count": 25,
   "outputs": [],
   "source": [
    "from tkinter import Tk, Label, Entry, Button\n",
    "\n",
    "class SquareCalculatorApp(Tk):\n",
    "    \"\"\"\n",
    "    GUI-приложение для вычисления квадрата числа.\n",
    "\n",
    "    Пользователь вводит число, приложение вычисляет квадрат и отображает результат.\n",
    "    \"\"\"\n",
    "    def __init__(self):\n",
    "        \"\"\"\n",
    "        Инициализация основного окна и виджетов.\n",
    "        \"\"\"\n",
    "        super().__init__()\n",
    "        self.title(\"Квадрат числа\")\n",
    "\n",
    "        # Создание и размещение метки с инструкцией\n",
    "        self.lbl_instruction = Label(self, text=\"Введите число:\")\n",
    "        self.lbl_instruction.pack(pady=5)\n",
    "\n",
    "        # Создание и размещение текстового поля для ввода числа\n",
    "        self.entry = Entry(self)\n",
    "        self.entry.pack(pady=5, padx=5, fill=\"x\")\n",
    "\n",
    "        # Создание и размещение кнопки для вычисления квадрата числа\n",
    "        # Команда для кнопки связана с методом calculate_square\n",
    "        self.btn_calculate = Button(self, text=\"Вычислить квадрат\", command=self.calculate_square)\n",
    "        self.btn_calculate.pack(pady=5)\n",
    "\n",
    "        # Создание и размещение метки для вывода введенного числа\n",
    "        self.lbl_input = Label(self, text=\"\")\n",
    "        self.lbl_input.pack(pady=5)\n",
    "\n",
    "        # Создание и размещение метки для вывода результата\n",
    "        self.lbl_result = Label(self, text=\"Ответ:\")\n",
    "        self.lbl_result.pack(pady=5)\n",
    "\n",
    "    def calculate_square(self):\n",
    "        \"\"\"\n",
    "        Вычисление квадрата введенного числа и отображение результата.\n",
    "\n",
    "        Получает число из текстового поля, вычисляет квадрат, обновляет текст меток.\n",
    "        Обрабатывает возможные ошибки ввода (например, если введено не число).\n",
    "        \"\"\"\n",
    "        try:\n",
    "            # Получаем число, вычисляем квадрат и обновляем метки\n",
    "            number = float(self.entry.get())\n",
    "            square = number ** 2\n",
    "            self.lbl_input.config(text=str(number))\n",
    "            self.lbl_result.config(text=\"Ответ: \" + str(square))\n",
    "        except ValueError:\n",
    "            # Обработка случая ввода не числа, отображение сообщения об ошибке\n",
    "            self.lbl_input.config(text=\"Ошибка!\")\n",
    "            self.lbl_result.config(text=\"Введите целое число.\")\n",
    "\n",
    "if __name__ == \"__main__\":\n",
    "    app = SquareCalculatorApp()\n",
    "    app.mainloop()"
   ],
   "metadata": {
    "collapsed": false,
    "pycharm": {
     "name": "#%%\n"
    }
   }
  },
  {
   "cell_type": "markdown",
   "source": [
    "### Задание 8.\n",
    "Написать программу, которая будет позволять пользователю вводить в два текстовых поля целые числа, а по нажатию на кнопку – вычислять значение суммы чисел и выводить в метку «a+b=»."
   ],
   "metadata": {
    "collapsed": false,
    "pycharm": {
     "name": "#%% md\n"
    }
   }
  },
  {
   "cell_type": "code",
   "execution_count": 27,
   "outputs": [],
   "source": [
    "from tkinter import Tk, Label, Entry, Button\n",
    "\n",
    "class SumCalculatorApp(Tk):\n",
    "    \"\"\"\n",
    "    GUI-приложение для вычисления суммы двух чисел.\n",
    "\n",
    "    Пользователь вводит два числа, приложение вычисляет их сумму и отображает результат.\n",
    "    \"\"\"\n",
    "\n",
    "    def __init__(self):\n",
    "        \"\"\"\n",
    "        Инициализация основного окна и виджетов.\n",
    "        \"\"\"\n",
    "        super().__init__()\n",
    "        self.title(\"Сумма чисел\")\n",
    "\n",
    "        # Создание и размещение виджетов\n",
    "        self.lbl_instruction = Label(self, text=\"Введите два числа:\")\n",
    "        self.lbl_instruction.pack(pady=5)\n",
    "\n",
    "        self.entry1 = Entry(self)\n",
    "        self.entry1.pack(pady=5, padx=5, fill=\"x\")\n",
    "\n",
    "        self.entry2 = Entry(self)\n",
    "        self.entry2.pack(pady=5, padx=5, fill=\"x\")\n",
    "\n",
    "        self.btn_calculate = Button(self, text=\"Вычислить сумму\", command=self.calculate_sum)\n",
    "        self.btn_calculate.pack(pady=5)\n",
    "\n",
    "        self.lbl_result = Label(self, text=\"a + b =\")\n",
    "        self.lbl_result.pack(pady=5)\n",
    "\n",
    "    def calculate_sum(self):\n",
    "        \"\"\"\n",
    "        Вычисление суммы двух введенных чисел и отображение результата.\n",
    "\n",
    "        Получает числа из текстовых полей, вычисляет их сумму и обновляет текст метки.\n",
    "        Обрабатывает возможные ошибки ввода (например, если введено не число).\n",
    "        \"\"\"\n",
    "        try:\n",
    "            # Попытка преобразовать первое число и обработка возможной ошибки\n",
    "            number1 = int(self.entry1.get())\n",
    "        except ValueError:\n",
    "            # Обработка ошибки для первого числа\n",
    "            self.lbl_result.config(text=\"Ошибка: первое значение не является целым числом.\")\n",
    "            return\n",
    "\n",
    "        try:\n",
    "            # Попытка преобразовать второе число и обработка возможной ошибки\n",
    "            number2 = int(self.entry2.get())\n",
    "        except ValueError:\n",
    "            # Обработка ошибки для второго числа\n",
    "            self.lbl_result.config(text=\"Ошибка: второе значение не является целым числом.\")\n",
    "            return\n",
    "\n",
    "        sum_result = number1 + number2\n",
    "        self.lbl_result.config(text=f\"{number1} + {number2} = {sum_result}\")\n",
    "\n",
    "\n",
    "if __name__ == \"__main__\":\n",
    "    app = SumCalculatorApp()\n",
    "    app.mainloop()"
   ],
   "metadata": {
    "collapsed": false,
    "pycharm": {
     "name": "#%%\n"
    }
   }
  },
  {
   "cell_type": "markdown",
   "source": [
    "### Задание 9.\n",
    "Разберите и повторите в Python примеры, приведенные в «Обучение Python GUI (уроки по Tkinter)» разделов, начиная с  «Добавление виджета Combobox», заканчивая «Добавление виджета ScrolledText (текстовая область Tkinter)»."
   ],
   "metadata": {
    "collapsed": false,
    "pycharm": {
     "name": "#%% md\n"
    }
   }
  },
  {
   "cell_type": "markdown",
   "source": [
    "#### Добавление виджета Combobox"
   ],
   "metadata": {
    "collapsed": false,
    "pycharm": {
     "name": "#%% md\n"
    }
   }
  },
  {
   "cell_type": "code",
   "execution_count": 28,
   "outputs": [],
   "source": [
    "from tkinter import *\n",
    "from tkinter.ttk import Combobox\n",
    "\n",
    "\n",
    "window = Tk()\n",
    "window.title(\"Добро пожаловать в приложение PythonRu\")\n",
    "window.geometry('400x250')\n",
    "combo = Combobox(window)\n",
    "combo['values'] = (1, 2, 3, 4, 5, \"Текст\")\n",
    "combo.current(1)  # установите вариант по умолчанию\n",
    "combo.grid(column=0, row=0)\n",
    "window.mainloop()"
   ],
   "metadata": {
    "collapsed": false,
    "pycharm": {
     "name": "#%%\n"
    }
   }
  },
  {
   "cell_type": "markdown",
   "source": [
    "#### Добавление виджета Checkbutton(чекбокса)"
   ],
   "metadata": {
    "collapsed": false,
    "pycharm": {
     "name": "#%% md\n"
    }
   }
  },
  {
   "cell_type": "code",
   "execution_count": null,
   "outputs": [],
   "source": [
    "from tkinter import *\n",
    "from tkinter.ttk import Checkbutton\n",
    "\n",
    "\n",
    "window = Tk()\n",
    "window.title(\"Добро пожаловать в приложение PythonRu\")\n",
    "window.geometry('400x250')\n",
    "chk_state = BooleanVar()\n",
    "chk_state.set(True)  # задайте проверку состояния чекбокса\n",
    "chk = Checkbutton(window, text='Выбрать', var=chk_state)\n",
    "chk.grid(column=0, row=0)\n",
    "window.mainloop()"
   ],
   "metadata": {
    "collapsed": false,
    "pycharm": {
     "name": "#%%\n"
    }
   }
  },
  {
   "cell_type": "markdown",
   "source": [
    "#### Добавление виджетов Radio Button"
   ],
   "metadata": {
    "collapsed": false,
    "pycharm": {
     "name": "#%% md\n"
    }
   }
  },
  {
   "cell_type": "code",
   "execution_count": 29,
   "outputs": [],
   "source": [
    "from tkinter import *\n",
    "from tkinter.ttk import Radiobutton\n",
    "\n",
    "\n",
    "window = Tk()\n",
    "window.title(\"Добро пожаловать в приложение PythonRu\")\n",
    "window.geometry('400x250')\n",
    "rad1 = Radiobutton(window, text='Первый', value=1)\n",
    "rad2 = Radiobutton(window, text='Второй', value=2)\n",
    "rad3 = Radiobutton(window, text='Третий', value=3)\n",
    "rad1.grid(column=0, row=0)\n",
    "rad2.grid(column=1, row=0)\n",
    "rad3.grid(column=2, row=0)\n",
    "window.mainloop()"
   ],
   "metadata": {
    "collapsed": false,
    "pycharm": {
     "name": "#%%\n"
    }
   }
  },
  {
   "cell_type": "markdown",
   "source": [
    "#### Получение значения Radio Button (Избранная Radio Button)"
   ],
   "metadata": {
    "collapsed": false,
    "pycharm": {
     "name": "#%% md\n"
    }
   }
  },
  {
   "cell_type": "code",
   "execution_count": 30,
   "outputs": [],
   "source": [
    "from tkinter import *\n",
    "from tkinter.ttk import Radiobutton\n",
    "\n",
    "\n",
    "def clicked():\n",
    "    lbl.configure(text=selected.get())\n",
    "\n",
    "\n",
    "window = Tk()\n",
    "window.title(\"Добро пожаловать в приложение PythonRu\")\n",
    "window.geometry('400x250')\n",
    "selected = IntVar()\n",
    "rad1 = Radiobutton(window,text='Первый', value=1, variable=selected)\n",
    "rad2 = Radiobutton(window,text='Второй', value=2, variable=selected)\n",
    "rad3 = Radiobutton(window,text='Третий', value=3, variable=selected)\n",
    "btn = Button(window, text=\"Клик\", command=clicked)\n",
    "lbl = Label(window)\n",
    "rad1.grid(column=0, row=0)\n",
    "rad2.grid(column=1, row=0)\n",
    "rad3.grid(column=2, row=0)\n",
    "btn.grid(column=3, row=0)\n",
    "lbl.grid(column=0, row=1)\n",
    "window.mainloop()"
   ],
   "metadata": {
    "collapsed": false,
    "pycharm": {
     "name": "#%%\n"
    }
   }
  },
  {
   "cell_type": "markdown",
   "source": [
    "### Задание 10.\n",
    "Написать программу, которая будет позволять пользователю вводить в два текстовых поля целые числа, а по нажатию на кнопку – вычислять значение суммы чисел или разности в зависимости от выбора в Combobox и выводить в метку «Ответ:»."
   ],
   "metadata": {
    "collapsed": false,
    "pycharm": {
     "name": "#%% md\n"
    }
   }
  },
  {
   "cell_type": "code",
   "execution_count": 31,
   "outputs": [],
   "source": [
    "from tkinter import Tk, Label, Entry, Button\n",
    "from tkinter.ttk import Combobox\n",
    "\n",
    "class CalculatorApp(Tk):\n",
    "    \"\"\"\n",
    "    GUI-приложение для вычисления суммы или разности двух чисел.\n",
    "\n",
    "    Пользователь вводит два числа, выбирает операцию и приложение отображает результат.\n",
    "    \"\"\"\n",
    "\n",
    "    def __init__(self):\n",
    "        \"\"\"\n",
    "        Инициализация основного окна и виджетов.\n",
    "        \"\"\"\n",
    "        super().__init__()\n",
    "        self.title(\"Калькулятор\")\n",
    "\n",
    "        # Ввод первого числа\n",
    "        self.entry1 = Entry(self)\n",
    "        self.entry1.pack(pady=5, padx=5, fill=\"x\")\n",
    "\n",
    "        # Ввод второго числа\n",
    "        self.entry2 = Entry(self)\n",
    "        self.entry2.pack(pady=5, padx=5, fill=\"x\")\n",
    "\n",
    "        # Выбор операции (сложение или вычитание)\n",
    "        self.operation = Combobox(self, values=[\"+\", \"-\"], state=\"readonly\")\n",
    "        self.operation.pack(pady=5)\n",
    "        self.operation.set(\"+\") # установка значения по умолчанию\n",
    "\n",
    "        # Кнопка для вычисления\n",
    "        self.btn_calculate = Button(self, text=\"Вычислить\", command=self.calculate)\n",
    "        self.btn_calculate.pack(pady=5)\n",
    "\n",
    "        # Метка для вывода результата\n",
    "        self.lbl_result = Label(self, text=\"Ответ: \")\n",
    "        self.lbl_result.pack(pady=5)\n",
    "\n",
    "    def calculate(self):\n",
    "        \"\"\"\n",
    "        Вычисление результата в зависимости от выбранной операции и отображение его.\n",
    "\n",
    "        Получает числа, выбранную операцию, вычисляет результат и обновляет метку.\n",
    "        Обрабатывает возможные ошибки ввода (например, если введено не число).\n",
    "        \"\"\"\n",
    "        try:\n",
    "            # Получение и преобразование чисел\n",
    "            number1 = int(self.entry1.get())\n",
    "            number2 = int(self.entry2.get())\n",
    "        except ValueError:\n",
    "            # Ошибка преобразования в число\n",
    "            self.lbl_result.config(text=\"Ошибка: введите корректные числа.\")\n",
    "            return\n",
    "\n",
    "        # Вычисление результата в зависимости от выбранной операции\n",
    "        operation = self.operation.get()\n",
    "        if operation == \"+\":\n",
    "            result = number1 + number2\n",
    "        elif operation == \"-\":\n",
    "            result = number1 - number2\n",
    "\n",
    "        # Вывод результата\n",
    "        self.lbl_result.config(text=f\"Ответ: {result}\")\n",
    "\n",
    "if __name__ == \"__main__\":\n",
    "    app = CalculatorApp()\n",
    "    app.mainloop()"
   ],
   "metadata": {
    "collapsed": false,
    "pycharm": {
     "name": "#%%\n"
    }
   }
  },
  {
   "cell_type": "markdown",
   "source": [
    "### Задание 11.\n",
    "Написать программу для решения предложенной задачи (по вариантам). Программа должна иметь графический пользовательский интерфейс с полями для ввода данных, пояснительными надписями, кнопкой выполнения вычислений и компонентом для вывода ответа.\n",
    "\n",
    "Программа «Кассовый аппарат». Имеются два поля для ввода цены товара и его количества, надпись с общей стоимостью покупок, кнопка «+», позволяющая вычислять стоимость очередного товара и добавлять ее к предыдущему значению суммы стоимостей, а также кнопка\n",
    "«Сброс», обнуляющая сумму."
   ],
   "metadata": {
    "collapsed": false,
    "pycharm": {
     "name": "#%% md\n"
    }
   }
  },
  {
   "cell_type": "code",
   "execution_count": 32,
   "outputs": [],
   "source": [
    "from tkinter import Tk, Label, Entry, Button\n",
    "\n",
    "class CashRegisterApp(Tk):\n",
    "    \"\"\"\n",
    "    GUI-приложение \"Кассовый аппарат\".\n",
    "\n",
    "    Пользователь вводит цену и количество товара, приложение вычисляет и отображает общую сумму.\n",
    "    \"\"\"\n",
    "\n",
    "    def __init__(self):\n",
    "        \"\"\"\n",
    "        Инициализация основного окна и виджетов.\n",
    "        \"\"\"\n",
    "        super().__init__()\n",
    "        self.title(\"Кассовый аппарат\")\n",
    "\n",
    "        # Ввод цены товара\n",
    "        self.lbl_price = Label(self, text=\"Цена товара:\")\n",
    "        self.lbl_price.pack(pady=5)\n",
    "        self.entry_price = Entry(self)\n",
    "        self.entry_price.pack(pady=5, padx=5, fill=\"x\")\n",
    "\n",
    "        # Ввод количества товара\n",
    "        self.lbl_quantity = Label(self, text=\"Количество товара:\")\n",
    "        self.lbl_quantity.pack(pady=5)\n",
    "        self.entry_quantity = Entry(self)\n",
    "        self.entry_quantity.pack(pady=5, padx=5, fill=\"x\")\n",
    "\n",
    "        # Кнопка для добавления стоимости товара к общей сумме\n",
    "        self.btn_add = Button(self, text=\"+\", command=self.add_cost)\n",
    "        self.btn_add.pack(pady=5)\n",
    "\n",
    "        # Кнопка для обнуления суммы\n",
    "        self.btn_reset = Button(self, text=\"Сброс\", command=self.reset)\n",
    "        self.btn_reset.pack(pady=5)\n",
    "\n",
    "        # Метка для вывода общей суммы\n",
    "        self.total_cost = 0\n",
    "        self.lbl_total = Label(self, text=\"Общая стоимость: 0\")\n",
    "        self.lbl_total.pack(pady=5)\n",
    "\n",
    "    def add_cost(self):\n",
    "        \"\"\"\n",
    "        Добавление стоимости товара к общей сумме и отображение результата.\n",
    "\n",
    "        Получает цену и количество, вычисляет стоимость и обновляет общую сумму и метку.\n",
    "        Обрабатывает возможные ошибки ввода (например, если введено не число).\n",
    "        \"\"\"\n",
    "        try:\n",
    "            # Получение и преобразование цены и количества\n",
    "            price = float(self.entry_price.get())\n",
    "            quantity = float(self.entry_quantity.get())\n",
    "        except ValueError:\n",
    "            # Ошибка преобразования в число\n",
    "            self.lbl_total.config(text=\"Ошибка: введите корректные числа.\")\n",
    "            return\n",
    "\n",
    "        # Вычисление стоимости товара и обновление общей суммы\n",
    "        cost = price * quantity\n",
    "        self.total_cost += cost\n",
    "\n",
    "        # Вывод общей суммы\n",
    "        self.lbl_total.config(text=f\"Общая стоимость: {self.total_cost:.2f}\")\n",
    "\n",
    "    def reset(self):\n",
    "        \"\"\"\n",
    "        Сброс общей суммы и обновление метки.\n",
    "        \"\"\"\n",
    "        self.total_cost = 0\n",
    "        self.lbl_total.config(text=\"Общая стоимость: 0\")\n",
    "\n",
    "if __name__ == \"__main__\":\n",
    "\n",
    "    app = CashRegisterApp()\n",
    "    app.mainloop()"
   ],
   "metadata": {
    "collapsed": false,
    "pycharm": {
     "name": "#%%\n"
    }
   }
  }
 ],
 "metadata": {
  "kernelspec": {
   "display_name": "Python 3",
   "language": "python",
   "name": "python3"
  },
  "language_info": {
   "codemirror_mode": {
    "name": "ipython",
    "version": 2
   },
   "file_extension": ".py",
   "mimetype": "text/x-python",
   "name": "python",
   "nbconvert_exporter": "python",
   "pygments_lexer": "ipython2",
   "version": "2.7.6"
  }
 },
 "nbformat": 4,
 "nbformat_minor": 0
}