{
 "cells": [
  {
   "cell_type": "markdown",
   "source": [
    "# Лабораторная работа 3\n",
    "## МНОЖЕСТВЕННОЕ НАСЛЕДОВАНИЕ. АБСТРАКТНЫЕ КЛАССЫ"
   ],
   "metadata": {
    "collapsed": false,
    "pycharm": {
     "name": "#%% md\n"
    }
   }
  },
  {
   "cell_type": "markdown",
   "source": [
    "### Задание 1.\n",
    "Разберите, реализуйте в системе программирования и протестируйте программу, соответствующую примеру лекции на множественное наследование классов: классы С1, С2, С3, Potomok (слайд 13). Дополните программу классом С4 и внесите необходимые изменения, чтобы реализовать приведенную ниже иерархию классов.\n",
    "\n",
    "![](311.png)\n",
    "![](312.png)"
   ],
   "metadata": {
    "collapsed": false,
    "pycharm": {
     "name": "#%% md\n"
    }
   }
  },
  {
   "cell_type": "code",
   "execution_count": 1,
   "outputs": [
    {
     "name": "stdout",
     "output_type": "stream",
     "text": [
      "Это класс 4\n",
      "[<class '__main__.DerivedClass'>, <class '__main__.Class2'>, <class '__main__.Class4'>, <class '__main__.Class1'>, <class '__main__.Class3'>, <class 'object'>]\n"
     ]
    }
   ],
   "source": [
    "import pprint\n",
    "\n",
    "\n",
    "class Class1:\n",
    "    \"\"\"Базовый класс 1\"\"\"\n",
    "    def display(self):\n",
    "        \"\"\"Метод вывода информации для Class1\"\"\"\n",
    "        print(\"Это класс 1\")\n",
    "\n",
    "\n",
    "class Class2(Class1):\n",
    "    \"\"\"Класс 2, наследуемый от Class1\"\"\"\n",
    "    def display(self):\n",
    "        \"\"\"Метод вывода информации для Class2\"\"\"\n",
    "        print(\"Это класс 2\")\n",
    "\n",
    "\n",
    "class Class3:\n",
    "    \"\"\"Базовый класс 3\"\"\"\n",
    "    def display(self):\n",
    "        \"\"\"Метод вывода информации для Class3\"\"\"\n",
    "        print(\"Это класс 3\")\n",
    "\n",
    "\n",
    "class Class4(Class1, Class3):\n",
    "    \"\"\"Класс 4, наследуемый от Class1 и Class3\"\"\"\n",
    "    def display(self):\n",
    "        \"\"\"Метод вывода информации для Class4\"\"\"\n",
    "        print(\"Это класс 4\")\n",
    "\n",
    "\n",
    "class DerivedClass(Class2, Class4):\n",
    "    \"\"\"Производный класс, наследуемый от Class2 и Class4\"\"\"\n",
    "    def display(self):\n",
    "        \"\"\"Метод вывода информации для DerivedClass, вызывая метод из Class4\"\"\"\n",
    "        Class4.display(self)\n",
    "\n",
    "\n",
    "# Создание экземпляра класса и проверка методов и MRO\n",
    "a = DerivedClass()\n",
    "a.display()\n",
    "print(DerivedClass.mro()) # Просмотр порядка разрешения методов (MRO) для класса DerivedClass"
   ],
   "metadata": {
    "collapsed": false,
    "pycharm": {
     "name": "#%%\n"
    }
   }
  },
  {
   "cell_type": "markdown",
   "source": [
    "MRO, или \"Method Resolution Order\" (порядок разрешения методов) - это концепция в объектно-ориентированном программировании, которая определяет порядок, в котором базовые классы предоставляются для поиска методов. Это основополагающий принцип, используемый в языках программирования для контроля и управления порядком, в котором методы и атрибуты родительских классов вызываются или доступны в процессе наследования."
   ],
   "metadata": {
    "collapsed": false,
    "pycharm": {
     "name": "#%% md\n"
    }
   }
  },
  {
   "cell_type": "markdown",
   "source": [
    "### Задание 2.\n",
    "Разберите, реализуйте в системе программирования и протестируйте программу, соответствующую примеру лекции с классом-миксином (слайд 14).\n",
    "\n",
    "![](32.png)"
   ],
   "metadata": {
    "collapsed": false,
    "pycharm": {
     "name": "#%% md\n"
    }
   }
  },
  {
   "cell_type": "code",
   "execution_count": 6,
   "outputs": [
    {
     "name": "stdout",
     "output_type": "stream",
     "text": [
      "Поехали!\n",
      "Слушаем музыку\n",
      "Поплыли!\n",
      "Слушаем музыку\n",
      "Поехали!\n",
      "Поплыли!\n",
      "Слушаем музыку\n",
      "Поехали!\n",
      "Поплыли!\n"
     ]
    }
   ],
   "source": [
    "class Auto:\n",
    "    \"\"\"Класс, представляющий автомобиль\"\"\"\n",
    "    def ride(self):\n",
    "        \"\"\"Метод для движения автомобиля\"\"\"\n",
    "        print(\"Поехали!\")\n",
    "\n",
    "\n",
    "class Boat:\n",
    "    \"\"\"Класс, представляющий лодку\"\"\"\n",
    "    def swim(self):\n",
    "        \"\"\"Метод для движения лодки\"\"\"\n",
    "        print(\"Поплыли!\")\n",
    "\n",
    "\n",
    "class MusicPlayer:\n",
    "    \"\"\"Класс-миксин, представляющий музыкальный плеер\"\"\"\n",
    "    def play(self):\n",
    "        \"\"\"Метод для воспроизведения музыки\"\"\"\n",
    "        print(\"Слушаем музыку\")\n",
    "\n",
    "\n",
    "class CarWithMusic(Auto, MusicPlayer):\n",
    "    \"\"\"Класс, представляющий автомобиль с музыкальным плеером\"\"\"\n",
    "    pass\n",
    "\n",
    "\n",
    "class BoatWithMusic(Boat, MusicPlayer):\n",
    "    \"\"\"Класс, представляющий лодку с музыкальным плеером\"\"\"\n",
    "    pass\n",
    "\n",
    "\n",
    "class AmphibiaWithMusic(Auto, Boat, MusicPlayer):\n",
    "    \"\"\"Класс, представляющий амфибию (автомобиль + лодка) с музыкальным плеером\"\"\"\n",
    "    pass\n",
    "\n",
    "\n",
    "class Amphibia(Auto, Boat):\n",
    "    \"\"\"Класс, представляющий амфибию без музыкального плеера\"\"\"\n",
    "    pass\n",
    "\n",
    "\n",
    "# Создание экземпляров классов и проверка методов\n",
    "car = CarWithMusic()\n",
    "boat = BoatWithMusic()\n",
    "amphibia_music = AmphibiaWithMusic()\n",
    "amphibia = Amphibia()\n",
    "\n",
    "\n",
    "test_methods_results = {\n",
    "    \"car\": [car.ride(), car.play()],\n",
    "    \"boat\": [boat.swim(), boat.play()],\n",
    "    \"amphibia_music\": [amphibia_music.ride(), amphibia_music.swim(), amphibia_music.play()],\n",
    "    \"amphibia\": [amphibia.ride(), amphibia.swim()]\n",
    "}"
   ],
   "metadata": {
    "collapsed": false,
    "pycharm": {
     "name": "#%%\n"
    }
   }
  },
  {
   "cell_type": "markdown",
   "source": [
    "* Миксины используют множественное наследование для предоставления дополнительной функциональности и могут иметь как реализованные, так и абстрактные методы.\n",
    "* Интерфейсы предоставляют чистые абстракции (только объявления методов) без любой реализации и не поддерживают состояния.\n",
    "* Трейты могут предоставлять как реализации методов, так и объявления методов, и могут быть использованы для композиции поведения в разных языках программирования."
   ],
   "metadata": {
    "collapsed": false,
    "pycharm": {
     "name": "#%% md\n"
    }
   }
  },
  {
   "cell_type": "markdown",
   "source": [
    "### Задание 3.\n",
    "Разберите, реализуйте в системе программирования и протестируйте программу, соответствующую примеру лекции на абстрактные классы (слайд 17). Модифицируйте программу следующим образом: пользователя просят выбрать домашнее животное (кошку или собаку), затем запрашивают кличку, создают соответствующий объект и выводят соответствующий крик. Обязательное требование: в программе должен быть всего один вызов метода cry и не использоваться никаких других способов вывода на экран крика животного.\n",
    "\n",
    "![](33.png)"
   ],
   "metadata": {
    "collapsed": false,
    "pycharm": {
     "name": "#%% md\n"
    }
   }
  },
  {
   "cell_type": "code",
   "execution_count": 8,
   "outputs": [
    {
     "name": "stdout",
     "output_type": "stream",
     "text": [
      "барсик говорит: Мяу!\n"
     ]
    }
   ],
   "source": [
    "from abc import ABC, abstractmethod\n",
    "\n",
    "class Pet(ABC):\n",
    "    \"\"\" Абстрактный класс, представляющий домашнее животное. \"\"\"\n",
    "    def __init__(self, name: str):\n",
    "        \"\"\" Инициализация домашнего животного с именем. \"\"\"\n",
    "        self.name = name\n",
    "\n",
    "    @abstractmethod\n",
    "    def cry(self) -> str:\n",
    "        \"\"\" Абстрактный метод для издаваемого животным звука. \"\"\"\n",
    "    pass\n",
    "\n",
    "class Cat(Pet):\n",
    "    \"\"\" Класс, представляющий кошку, наследуется от Pet. \"\"\"\n",
    "    def cry(self) -> str:\n",
    "        \"\"\" Метод, реализующий звук, издаваемый кошкой. \"\"\"\n",
    "        return \"Мяу!\"\n",
    "\n",
    "class Dog(Pet):\n",
    "    \"\"\" Класс, представляющий собаку, наследуется от Pet. \"\"\"\n",
    "    def cry(self) -> str:\n",
    "        \"\"\" Метод, реализующий звук, издаваемый собакой. \"\"\"\n",
    "        return \"Гав!\"\n",
    "\n",
    "\n",
    "\n",
    "def create_pet_and_make_it_cry(animal_type: str, pet_name: str) -> str:\n",
    "    \"\"\"\n",
    "    Функция для создания объекта домашнего животного и вывода его \"крика\".\n",
    "    Параметры:\n",
    "    - animal_type (str): тип животного (\"кошка\" или \"собака\")\n",
    "    - pet_name (str): имя животного\n",
    "    Возвращает:\n",
    "    - str: строка с результатом \"крика\" или сообщение об ошибке\n",
    "    \"\"\"\n",
    "    if animal_type.lower() == \"кошка\":\n",
    "        pet = Cat(pet_name)\n",
    "    elif animal_type.lower() == \"собака\":\n",
    "        pet = Dog(pet_name)\n",
    "    else:\n",
    "        return \"Неизвестный тип животного\"\n",
    "    return f\"{pet.name} говорит: {pet.cry()}\"\n",
    "\n",
    "\n",
    "\n",
    "animal_type = input(\"Выберите домашнее животное (кошка или собака): \")\n",
    "pet_name = input(\"Введите кличку животного: \")\n",
    "\n",
    "result = create_pet_and_make_it_cry(animal_type, pet_name)\n",
    "\n",
    "print(result)"
   ],
   "metadata": {
    "collapsed": false,
    "pycharm": {
     "name": "#%%\n"
    }
   }
  },
  {
   "cell_type": "markdown",
   "source": [
    "### Задание 4.\n",
    "Выполнить задание в соответствии с номером варианта. Во всех вариантах в схемах родительские классы отображаются выше классов-потомков, повторения классов используется для упрощения отображения взаимосвязей. Надписи “public”, “private”, “protected” учитывать не нужно, все члены всех классов оставить общедоступными. В каждом классе модифицировать магический метод `__str__()` так, чтобы при попытке вывести объект, соответствующего типа, печаталось имя класса, к которому он относится. Никаких других требований к содержимому классов нет. В программе нужно сформировать по одному экземпляру каждого класса и вывести для каждого название класса (используя ранее модифицированный магический метод) и порядок множественного разрешения.\n",
    "\n",
    "![](34.png)"
   ],
   "metadata": {
    "collapsed": false,
    "pycharm": {
     "name": "#%% md\n"
    }
   }
  },
  {
   "cell_type": "code",
   "execution_count": 13,
   "outputs": [
    {
     "name": "stdout",
     "output_type": "stream",
     "text": [
      "[\"Это объект класса B1; MRO: ['B1', 'object']\",\n",
      " \"Это объект класса D1; MRO: ['D1', 'B1', 'object']\",\n",
      " \"Это объект класса D2; MRO: ['D2', 'D1', 'B1', 'object']\",\n",
      " \"Это объект класса B2; MRO: ['B2', 'object']\",\n",
      " \"Это объект класса D3; MRO: ['D3', 'D2', 'D1', 'B1', 'B2', 'object']\"]\n"
     ]
    }
   ],
   "source": [
    "import pprint\n",
    "\n",
    "class B1:\n",
    "    \"\"\" Класс B1 - родительский класс для D1. \"\"\"\n",
    "    def __str__(self) -> str:\n",
    "        return \"Это объект класса B1\"\n",
    "\n",
    "\n",
    "class D1(B1):\n",
    "    \"\"\" Класс D1 - дочерний класс B1 и родительский класс для D2. \"\"\"\n",
    "    def __str__(self) -> str:\n",
    "        return \"Это объект класса D1\"\n",
    "\n",
    "\n",
    "class D2(D1):\n",
    "    \"\"\" Класс D2 - дочерний класс D1 и родительский класс для D3. \"\"\"\n",
    "    def __str__(self) -> str:\n",
    "        return \"Это объект класса D2\"\n",
    "\n",
    "\n",
    "class B2:\n",
    "    \"\"\" Класс B2 - родительский класс для D3. \"\"\"\n",
    "    def __str__(self) -> str:\n",
    "        return \"Это объект класса B2\"\n",
    "\n",
    "\n",
    "class D3(D2, B2):\n",
    "    \"\"\" Класс D3 - дочерний класс D2 и B2. \"\"\"\n",
    "    def __str__(self) -> str:\n",
    "        return \"Это объект класса D3\"\n",
    "\n",
    "\n",
    "b1 = B1()\n",
    "d1 = D1()\n",
    "d2 = D2()\n",
    "b2 = B2()\n",
    "d3 = D3()\n",
    "\n",
    "instances = [b1, d1, d2, b2, d3]\n",
    "\n",
    "def get_instance_description(instance):\n",
    "    \"\"\" ФФункция для получения строки с описанием экземпляра и его MRO\"\"\"\n",
    "    return f\"{str(instance)}; MRO: {[cls.__name__ for cls in instance.__class__.mro()]}\"\n",
    "\n",
    "\n",
    "output_results = list(map(get_instance_description, instances))\n",
    "pprint.pprint(output_results)"
   ],
   "metadata": {
    "collapsed": false,
    "pycharm": {
     "name": "#%%\n"
    }
   }
  },
  {
   "cell_type": "markdown",
   "source": [
    "### Задание 5. Опишите абстрактный базовый класс, определив в нем абстрактные функции.\n",
    "Реализуются функции в производных классах. Самостоятельно определить, какие поля необходимы, какие из них можно задать в базовом классе, а какие — в производных. В классах не должно содержаться “лишних” полей. Программа должна продемонстрировать вызов всех абстрактных функций классов-наследников на введенных пользователем или заданных случайным образом данных.\n",
    "\n",
    "-- Создать абстрактный класс Currency (валюта) для работы с денежными суммами.\n",
    "-- Определить виртуальные функции перевода в рубли и вывода на экран.\n",
    "-- Реализовать производные классы Dollar (доллар) и Euro (евро) со своими функциями перевода и вывода на экран."
   ],
   "metadata": {
    "collapsed": false,
    "pycharm": {
     "name": "#%% md\n"
    }
   }
  },
  {
   "cell_type": "code",
   "execution_count": 20,
   "outputs": [
    {
     "name": "stdout",
     "output_type": "stream",
     "text": [
      "[('$31.73', '₽3173.04'), ('€92.15', '₽9675.94')]\n"
     ]
    }
   ],
   "source": [
    "import random\n",
    "from abc import ABC, abstractmethod\n",
    "\n",
    "\n",
    "class Currency(ABC):\n",
    "    \"\"\" Абстрактный класс валюты. \"\"\"\n",
    "    def __init__(self, amount: float):\n",
    "        \"\"\" Инициализация валюты с суммой. \"\"\"\n",
    "        self.amount = amount\n",
    "\n",
    "\n",
    "    @abstractmethod\n",
    "    def to_rubles(self) -> float:\n",
    "        \"\"\" Абстрактный метод для перевода в рубли. \"\"\"\n",
    "        pass\n",
    "\n",
    "\n",
    "    @abstractmethod\n",
    "    def display(self) -> str:\n",
    "        \"\"\" Абстрактный метод для отображения суммы. \"\"\"\n",
    "        pass\n",
    "\n",
    "\n",
    "class Dollar(Currency):\n",
    "    \"\"\" Класс доллара, наследуется от Currency. \"\"\"\n",
    "    def to_rubles(self) -> str:\n",
    "        \"\"\" Переводит доллары в рубли. \"\"\"\n",
    "        return f\"₽{self.amount * 100:.2f}\"\n",
    "\n",
    "\n",
    "    def display(self) -> str:\n",
    "        \"\"\" Отображает сумму в долларах. \"\"\"\n",
    "        return f\"${self.amount:.2f}\"\n",
    "\n",
    "\n",
    "class Euro(Currency):\n",
    "    \"\"\" Класс евро, наследуется от Currency. \"\"\"\n",
    "    def to_rubles(self) -> str:\n",
    "        \"\"\" Переводит евро в рубли. \"\"\"\n",
    "        return f\"₽{self.amount * 105:.2f}\"\n",
    "\n",
    "\n",
    "    def display(self) -> str:\n",
    "        \"\"\" Отображает сумму в евро. \"\"\"\n",
    "        return f\"€{self.amount:.2f}\"\n",
    "\n",
    "\n",
    "# Создание экземпляров со случайными значениями от 1 до 100\n",
    "dollar_amount = random.uniform(1, 100)\n",
    "euro_amount = random.uniform(1, 100)\n",
    "\n",
    "dollar_instance = Dollar(dollar_amount)\n",
    "euro_instance = Euro(euro_amount)\n",
    "\n",
    "# Вывод информации для каждого экземпляра: отображение и эквивалент в рублях\n",
    "output_results = [\n",
    "    (dollar_instance.display(), dollar_instance.to_rubles()),\n",
    "    (euro_instance.display(), euro_instance.to_rubles())\n",
    "]\n",
    "\n",
    "print(output_results)"
   ],
   "metadata": {
    "collapsed": false,
    "pycharm": {
     "name": "#%%\n"
    }
   }
  }
 ],
 "metadata": {
  "kernelspec": {
   "display_name": "Python 3",
   "language": "python",
   "name": "python3"
  },
  "language_info": {
   "codemirror_mode": {
    "name": "ipython",
    "version": 2
   },
   "file_extension": ".py",
   "mimetype": "text/x-python",
   "name": "python",
   "nbconvert_exporter": "python",
   "pygments_lexer": "ipython2",
   "version": "2.7.6"
  }
 },
 "nbformat": 4,
 "nbformat_minor": 0
}