{
 "cells": [
  {
   "cell_type": "markdown",
   "source": [
    "# Тест 1\n",
    "\n",
    "\n"
   ],
   "metadata": {
    "collapsed": false,
    "pycharm": {
     "name": "#%% md\n"
    }
   }
  },
  {
   "cell_type": "markdown",
   "source": [
    "### 1. Встроенный в Python тип данных list является:\n",
    "* Экземпляром класса"
   ],
   "metadata": {
    "collapsed": false,
    "pycharm": {
     "name": "#%% md\n"
    }
   }
  },
  {
   "cell_type": "markdown",
   "source": [
    "### 2. Чем отличается объект от экземпляра класса?\n",
    "* Объект — это любое значение в Python, в том числе и сам класс, а экземпляр класса — это продукт, созданный по шаблону класса"
   ],
   "metadata": {
    "collapsed": false,
    "pycharm": {
     "name": "#%% md\n"
    }
   }
  },
  {
   "cell_type": "markdown",
   "source": [
    "### 3. С помощью какой функции можно определить принадлежность объекта классу?\n",
    "\n",
    "* isinstance()\n",
    "\n"
   ],
   "metadata": {
    "collapsed": false,
    "pycharm": {
     "name": "#%% md\n"
    }
   }
  },
  {
   "cell_type": "markdown",
   "source": [
    "### 4. С помощью какой функции можно определить тип данных объекта?\n",
    "\n",
    "* type()"
   ],
   "metadata": {
    "collapsed": false,
    "pycharm": {
     "name": "#%% md\n"
    }
   }
  },
  {
   "cell_type": "markdown",
   "source": [
    "## Упражнение 1\n"
   ],
   "metadata": {
    "collapsed": false,
    "pycharm": {
     "name": "#%% md\n"
    }
   }
  },
  {
   "cell_type": "markdown",
   "source": [
    "### 1. Создание класса\n",
    "\n",
    "В программе задан блок кода, который проверяет, был ли создан класс Plane. Изначально искомого класса нет. Ваша задача создать пустой класс, ничего в него не добавляя так, чтобы программа выводила на экран \"Класс создан\"."
   ],
   "metadata": {
    "collapsed": false,
    "pycharm": {
     "name": "#%% md\n"
    }
   }
  },
  {
   "cell_type": "code",
   "execution_count": 3,
   "outputs": [
    {
     "name": "stdout",
     "output_type": "stream",
     "text": [
      "Класс создан\n"
     ]
    }
   ],
   "source": [
    "class Plane:\n",
    "    pass\n",
    "\n",
    "try:\n",
    "    Plane\n",
    "except NameError:\n",
    "    print('Класс Plane не был создан')\n",
    "else:\n",
    "    print(\"Класс создан\")"
   ],
   "metadata": {
    "collapsed": false,
    "pycharm": {
     "name": "#%%\n"
    }
   }
  },
  {
   "cell_type": "markdown",
   "source": [
    "### 2. Атрибуты класса 1\n",
    "\n",
    "В программе задан блок кода, который проверяет были ли созданы атрибуты класса Plane. Изначально класс пуст. Ваша задача заполнить пустой класс требуемыми параметрами так, чтобы программа выводила на экран \"Атрибуты созданы верно\"."
   ],
   "metadata": {
    "collapsed": false,
    "pycharm": {
     "name": "#%% md\n"
    }
   }
  },
  {
   "cell_type": "code",
   "execution_count": 6,
   "outputs": [
    {
     "name": "stdout",
     "output_type": "stream",
     "text": [
      "Атрибуты созданы неверно\n"
     ]
    }
   ],
   "source": [
    "class Plane:\n",
    "    def __init__(self, weight, brand, model):\n",
    "        self.weight = weight\n",
    "        self.brand = brand\n",
    "        self.model = model\n",
    "\n",
    "try:\n",
    "    Plane.weight\n",
    "    Plane.brand\n",
    "    Plane.model\n",
    "except AttributeError:\n",
    "    print('Атрибуты созданы неверно')\n",
    "else:\n",
    "    print('Атрибуты созданы верно')"
   ],
   "metadata": {
    "collapsed": false,
    "pycharm": {
     "name": "#%%\n"
    }
   }
  },
  {
   "cell_type": "markdown",
   "source": [
    "### 3. Экземпляр класса 1\n",
    "\n",
    "В программе задан блок кода, который проверяет, был ли создан экземпляр класса Plane. Изначально экземпляр не создан. Ваша задача объявить его так, чтобы программа выводила на экран тип созданного экземпляра, а затем сообщение \"Объект был создан верно\" с новой строки."
   ],
   "metadata": {
    "collapsed": false,
    "pycharm": {
     "name": "#%% md\n"
    }
   }
  },
  {
   "cell_type": "code",
   "execution_count": 7,
   "outputs": [
    {
     "name": "stdout",
     "output_type": "stream",
     "text": [
      "<class '__main__.Plane'>\n",
      "Объект был создан верно\n"
     ]
    }
   ],
   "source": [
    "class Plane:\n",
    "\tdef __init__(self, weight, brand, model):\n",
    "\t\tself.weight = weight\n",
    "\t\tself.brand = brand\n",
    "\t\tself.model = model\n",
    "\n",
    "jet = Plane(10000, 'Boeing', 737)\n",
    "\n",
    "try:\n",
    "\tprint(type(jet))\n",
    "except NameError:\n",
    "\tprint('Объект \"jet\" не был создан')\n",
    "else:\n",
    "\tprint(\"Объект был создан верно\")"
   ],
   "metadata": {
    "collapsed": false,
    "pycharm": {
     "name": "#%%\n"
    }
   }
  },
  {
   "cell_type": "markdown",
   "source": [
    "# Тест 2"
   ],
   "metadata": {
    "collapsed": false,
    "pycharm": {
     "name": "#%% md\n"
    }
   }
  },
  {
   "cell_type": "markdown",
   "source": [
    "### 1. Выберите верные утверждения про атрибуты экземпляра класса и атрибуты класса.\n",
    "\n",
    "* Атрибуты класса — это данные, которые описывают класс. Эти данные присущи самому классу и по умолчанию будут отображаться для всех созданных экземпляров\n",
    "\n",
    "* Атрибуты экземпляра класса — это данные, присущие конкретному экземпляру класса"
   ],
   "metadata": {
    "collapsed": false,
    "pycharm": {
     "name": "#%% md\n"
    }
   }
  },
  {
   "cell_type": "markdown",
   "source": [
    "### 2. Как обратиться к атрибуту cost класса Product?\n",
    "\n",
    "* Product.cost"
   ],
   "metadata": {
    "collapsed": false,
    "pycharm": {
     "name": "#%% md\n"
    }
   }
  },
  {
   "cell_type": "markdown",
   "source": [
    "### 3. Как присвоить атрибуту cost класса Product новое значение 250?\n",
    "\n",
    "* Product.cost = 250"
   ],
   "metadata": {
    "collapsed": false,
    "pycharm": {
     "name": "#%% md\n"
    }
   }
  },
  {
   "cell_type": "markdown",
   "source": [
    "### 4. Что произойдет при обращении к несуществующему атрибуту?\n",
    "\n",
    "* Ошибка AttributeError\n"
   ],
   "metadata": {
    "collapsed": false,
    "pycharm": {
     "name": "#%% md\n"
    }
   }
  },
  {
   "cell_type": "markdown",
   "source": [
    "## Упражнение 2"
   ],
   "metadata": {
    "collapsed": false,
    "pycharm": {
     "name": "#%% md\n"
    }
   }
  },
  {
   "cell_type": "markdown",
   "source": [
    "### 1. Вывод атрибутов класса\n",
    "\n",
    "В программе объявлен класс Character. Выведите на экран сначала значение его атрибута health_points, затем значение атрибута damage."
   ],
   "metadata": {
    "collapsed": false,
    "pycharm": {
     "name": "#%% md\n"
    }
   }
  },
  {
   "cell_type": "code",
   "execution_count": 8,
   "outputs": [
    {
     "name": "stdout",
     "output_type": "stream",
     "text": [
      "Очки жизни 100, урон 17\n"
     ]
    }
   ],
   "source": [
    "class Character:\n",
    "    def __init__(self, name, health_points, damage):\n",
    "\t    self.name = name\n",
    "\t    self.health_points = health_points\n",
    "\t    self.damage = damage\n",
    "\n",
    "monster_bat = Character('Monster bat', 100, 17)\n",
    "print(f'Очки жизни {monster_bat.health_points}, урон {monster_bat.damage}')"
   ],
   "metadata": {
    "collapsed": false,
    "pycharm": {
     "name": "#%%\n"
    }
   }
  },
  {
   "cell_type": "markdown",
   "source": [
    "### 2. Изменение атрибутов класса\n",
    "\n",
    "В программе объявлен класс Character. Программа принимает на вход две целочисленные переменные damage и health_points. Поменяйте значения соответствующих атрибутов класса Character на новые, а затем выведите их на экран в строку через пробел."
   ],
   "metadata": {
    "collapsed": false,
    "pycharm": {
     "name": "#%% md\n"
    }
   }
  },
  {
   "cell_type": "code",
   "execution_count": 15,
   "outputs": [
    {
     "name": "stdout",
     "output_type": "stream",
     "text": [
      "Новые характеристики (120, 20)\n"
     ]
    }
   ],
   "source": [
    "class Character:\n",
    "\tdef __init__(self, health_points, damage):\n",
    "\t\tself.health_points = health_points\n",
    "\t\tself.damage = damage\n",
    "\n",
    "\n",
    "monster = Character(100, 17)\n",
    "\n",
    "monster.health_points = 120\n",
    "monster.damage = 20\n",
    "\n",
    "print(f'Новые характеристики {monster.health_points, monster.damage}')"
   ],
   "metadata": {
    "collapsed": false,
    "pycharm": {
     "name": "#%%\n"
    }
   }
  },
  {
   "cell_type": "markdown",
   "source": [
    "### 3. Добавление новых атрибутов класса\n",
    "\n",
    "В программе объявлен класс Character. Программа принимает на вход две переменные game_class (строковую) и armor (числовую). Создайте одноименные атрибуты класса Character не изменяя кода самого класса, а затем выведите значения новых атрибутов на экран в строку через пробел."
   ],
   "metadata": {
    "collapsed": false,
    "pycharm": {
     "name": "#%% md\n"
    }
   }
  },
  {
   "cell_type": "code",
   "execution_count": 18,
   "outputs": [
    {
     "name": "stdout",
     "output_type": "stream",
     "text": [
      "Игровой класс warrior, броня 20\n"
     ]
    }
   ],
   "source": [
    "class Character:\n",
    "    def __init__(self, health_points, damage, game_class, armor):\n",
    "        self.health_points = health_points\n",
    "        self.damage = damage\n",
    "        self.game_class = game_class\n",
    "        self.armor = armor\n",
    "\n",
    "berserk = Character(200, 40, \"warrior\", 20)\n",
    "\n",
    "print(f'Игровой класс {berserk.game_class}, броня {berserk.armor}')"
   ],
   "metadata": {
    "collapsed": false,
    "pycharm": {
     "name": "#%%\n"
    }
   }
  },
  {
   "cell_type": "markdown",
   "source": [
    "### 4. Удаление атрибутов\n",
    "\n",
    "В программе объявлен класс Character.\n",
    "\n",
    "Удалите несколько атрибутов из класса Character: атрибут name при помощи оператора del, а атрибут armor при помощи функции delattr(). Программа должна выводить на экран сообщения о том, что атрибуты удалены."
   ],
   "metadata": {
    "collapsed": false,
    "pycharm": {
     "name": "#%% md\n"
    }
   }
  },
  {
   "cell_type": "code",
   "execution_count": 3,
   "outputs": [
    {
     "name": "stdout",
     "output_type": "stream",
     "text": [
      "Атрибут name удален\n",
      "Атрибут armor удален\n"
     ]
    }
   ],
   "source": [
    "class Character:\n",
    "    def __init__(self, name, health_points, damage, game_class, armor):\n",
    "        self.name = name\n",
    "        self.health_points = health_points\n",
    "        self.damage = damage\n",
    "        self.game_class = game_class\n",
    "        self.armor = armor\n",
    "\n",
    "try:\n",
    "    del Character.name\n",
    "except AttributeError:\n",
    "    print(\"Атрибут name удален\")\n",
    "else:\n",
    "    print(\"Атрибут name все еще здесь\")\n",
    "\n",
    "\n",
    "\n",
    "try:\n",
    "    delattr(Character, \"armor\")\n",
    "except AttributeError:\n",
    "    print(\"Атрибут armor удален\")\n",
    "else:\n",
    "    print(\"Атрибут armor все еще здесь\")"
   ],
   "metadata": {
    "collapsed": false,
    "pycharm": {
     "name": "#%%\n"
    }
   }
  },
  {
   "cell_type": "markdown",
   "source": [
    "### 5. Класс Movie\n",
    "\n",
    "Создайте класс Movie с атрибутами name (Титаник) и year (1997). Затем создайте экземпляр класса и сохраните его в переменную m. Программа должна выводить на экран сообщения об успешности создания класса и его атрибута."
   ],
   "metadata": {
    "collapsed": false,
    "pycharm": {
     "name": "#%% md\n"
    }
   }
  },
  {
   "cell_type": "code",
   "execution_count": 4,
   "outputs": [
    {
     "name": "stdout",
     "output_type": "stream",
     "text": [
      "Класс создан\n",
      "Экземпляр создан\n"
     ]
    }
   ],
   "source": [
    "class Movie:\n",
    "    def __init__(self, name, year):\n",
    "        self.name = name\n",
    "        self.year = year\n",
    "\n",
    "m = Movie('Титаник', 1997)\n",
    "\n",
    "try:\n",
    "\tMovie\n",
    "except NameError:\n",
    "\tprint('Класс Movie не создан')\n",
    "else:\n",
    "\tprint(\"Класс создан\")\n",
    "\n",
    "try:\n",
    "\tm\n",
    "except NameError:\n",
    "\tprint('Экземпляр класс Movie не создан')\n",
    "else:\n",
    "\tprint(\"Экземпляр создан\")"
   ],
   "metadata": {
    "collapsed": false,
    "pycharm": {
     "name": "#%%\n"
    }
   }
  },
  {
   "cell_type": "markdown",
   "source": [
    "# Тест 3"
   ],
   "metadata": {
    "collapsed": false,
    "pycharm": {
     "name": "#%% md\n"
    }
   }
  },
  {
   "cell_type": "markdown",
   "source": [
    "### 1. Чем класс отличается от экземпляра класса?\n",
    "\n",
    "* Класс — это шаблон, а экземпляр класса — это объект, созданный по этому шаблону\n"
   ],
   "metadata": {
    "collapsed": false,
    "pycharm": {
     "name": "#%% md\n"
    }
   }
  },
  {
   "cell_type": "markdown",
   "source": [
    "### 2. Чем атрибут класса отличается от атрибута экземпляра класса?\n",
    "\n",
    "* Это атрибуты, относящиеся к разным объектам\n"
   ],
   "metadata": {
    "collapsed": false,
    "pycharm": {
     "name": "#%% md\n"
    }
   }
  },
  {
   "cell_type": "markdown",
   "source": [
    "### 3. Что будет выведено на экран в результате работы кода ниже?\n",
    "\n",
    "![](2023-09-15_17-27-40.png)\n",
    "\n",
    "* 70"
   ],
   "metadata": {
    "collapsed": false,
    "pycharm": {
     "name": "#%% md\n"
    }
   }
  },
  {
   "cell_type": "markdown",
   "source": [
    "### 4. Имеется класс Picture и его экземпляр p. Выражение p.brightness будет указывать на:\n",
    "\n",
    "* атрибут экземпляра класса\n"
   ],
   "metadata": {
    "collapsed": false,
    "pycharm": {
     "name": "#%% md\n"
    }
   }
  },
  {
   "cell_type": "markdown",
   "source": [
    "### 5. Укажите значение вызываемого атрибута (см. код ниже).\n",
    "\n",
    "![](2023-09-15_17-31-24.png)\n",
    "\n",
    "* 10"
   ],
   "metadata": {
    "collapsed": false,
    "pycharm": {
     "name": "#%% md\n"
    }
   }
  },
  {
   "cell_type": "markdown",
   "source": [
    "### 6. Укажите значение вызываемого атрибута (см. код ниже).\n",
    "\n",
    "![](2023-09-15_17-31-38.png)\n",
    "\n",
    "* 70"
   ],
   "metadata": {
    "collapsed": false,
    "pycharm": {
     "name": "#%% md\n"
    }
   }
  },
  {
   "cell_type": "markdown",
   "source": [
    "## Упражнение 3"
   ],
   "metadata": {
    "collapsed": false,
    "pycharm": {
     "name": "#%% md\n"
    }
   }
  },
  {
   "cell_type": "markdown",
   "source": [
    "### 1\n",
    "В программе объявлен класс Phone. Создайте два экземпляра класса и сохраните их в переменные p1 и p2. Программа должна выводить на экран сообщение об успешности создания экземпляров класса."
   ],
   "metadata": {
    "collapsed": false,
    "pycharm": {
     "name": "#%% md\n"
    }
   }
  },
  {
   "cell_type": "code",
   "execution_count": 2,
   "outputs": [
    {
     "name": "stdout",
     "output_type": "stream",
     "text": [
      "Объекты были созданы верно\n"
     ]
    }
   ],
   "source": [
    "class Phone:\n",
    "    def __init__(self, brand, model, memory):\n",
    "        self.brand = brand\n",
    "        self.model = model\n",
    "        self.memory = memory\n",
    "\n",
    "p1 = Phone('Apple', 'iPhone 12', 256)\n",
    "p2 = Phone('Huawei', 'P30', 128)\n",
    "\n",
    "try:\n",
    "    p1\n",
    "    p2\n",
    "except NameError:\n",
    "\tprint('Объекты p1 и/или p2 не были созданы')\n",
    "else:\n",
    "\tprint(\"Объекты были созданы верно\")"
   ],
   "metadata": {
    "collapsed": false,
    "pycharm": {
     "name": "#%%\n"
    }
   }
  },
  {
   "cell_type": "markdown",
   "source": [
    "### 2. Атрибуты элементов класса\n",
    "\n",
    "В программе объявлен класс Phone и созданы 2 его экземпляра p1 и p2. Попробуйте вывести на экран атрибуты p1, а затем атрибуты p2 с новой строки, воспользовавшись магическим методом __dict__."
   ],
   "metadata": {
    "collapsed": false,
    "pycharm": {
     "name": "#%% md\n"
    }
   }
  },
  {
   "cell_type": "code",
   "execution_count": 4,
   "outputs": [
    {
     "name": "stdout",
     "output_type": "stream",
     "text": [
      "{'brand': 'Apple', 'model': 'iPhone 12', 'memory': 256}\n",
      "{'brand': 'Huawei', 'model': 'P30', 'memory': 128}\n"
     ]
    }
   ],
   "source": [
    "print(p1.__dict__)\n",
    "print(p2.__dict__)"
   ],
   "metadata": {
    "collapsed": false,
    "pycharm": {
     "name": "#%%\n"
    }
   }
  },
  {
   "cell_type": "markdown",
   "source": [
    "### 3. Воин и волшебник\n",
    "\n",
    "В программе объявлен пустой класс GameCharacter. Создайте два экземпляра класса и сохраните их в переменные warrior и wizard.\n",
    "\n",
    "Для warrior необходимо создать атрибуты:\n",
    "\n",
    "1. damage со значением 40;\n",
    "\n",
    "2. weapon со значением axe;\n",
    "\n",
    "3. health_points со значением 100;\n",
    "\n",
    "4. can_spell со значением False.\n",
    "\n",
    "Для wizard необходимо создать атрибуты:\n",
    "\n",
    "1. damage со значением 35;\n",
    "\n",
    "2. weapon со значением wand;\n",
    "\n",
    "3. health_points со значением 105;\n",
    "\n",
    "4. can_spell со значением True.\n"
   ],
   "metadata": {
    "collapsed": false,
    "pycharm": {
     "name": "#%% md\n"
    }
   }
  },
  {
   "cell_type": "code",
   "execution_count": 5,
   "outputs": [
    {
     "name": "stdout",
     "output_type": "stream",
     "text": [
      "{'damage': 35, 'weapon': 'wand', 'health_points': 105, 'can_spell': True}\n",
      "{'damage': 40, 'weapon': 'Axe', 'health_points': 100, 'can_spell': False}\n"
     ]
    }
   ],
   "source": [
    "class GameCharacter:\n",
    "    def __init__(self, damage, weapon, health_points, can_spell):\n",
    "        self.damage = damage\n",
    "        self.weapon = weapon\n",
    "        self.health_points = health_points\n",
    "        self.can_spell = can_spell\n",
    "\n",
    "\n",
    "warrior = GameCharacter(40, 'Axe', 100, False)\n",
    "wizard = GameCharacter(35, 'wand', 105, True)\n",
    "\n",
    "\n",
    "print(wizard.__dict__)\n",
    "print(warrior.__dict__)"
   ],
   "metadata": {
    "collapsed": false,
    "pycharm": {
     "name": "#%%\n"
    }
   }
  }
 ],
 "metadata": {
  "kernelspec": {
   "display_name": "Python 3",
   "language": "python",
   "name": "python3"
  },
  "language_info": {
   "codemirror_mode": {
    "name": "ipython",
    "version": 2
   },
   "file_extension": ".py",
   "mimetype": "text/x-python",
   "name": "python",
   "nbconvert_exporter": "python",
   "pygments_lexer": "ipython2",
   "version": "2.7.6"
  }
 },
 "nbformat": 4,
 "nbformat_minor": 0
}