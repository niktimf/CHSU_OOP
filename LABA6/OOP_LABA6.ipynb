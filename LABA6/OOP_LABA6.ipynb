{
 "cells": [
  {
   "cell_type": "markdown",
   "source": [
    "# Лабораторная работа 6\n",
    "\n",
    "## СОЗДАНИЕ ГРАФИЧЕСКОГО ИНТЕРФЕЙСА ПОЛЬЗОВАТЕЛЯ В PYTHON: PyQt5"
   ],
   "metadata": {
    "collapsed": false,
    "pycharm": {
     "name": "#%% md\n"
    }
   }
  },
  {
   "cell_type": "markdown",
   "source": [
    "### Задание 1.\n",
    "\n",
    "Задания на слайдах 18, 20, 23, 24 лекции на использование PyQt5.\n",
    "\n",
    "![](611.png)\n",
    "\n",
    "![](612.png)\n",
    "\n",
    "![](613.png)\n",
    "\n",
    "![](614.png)"
   ],
   "metadata": {
    "collapsed": false,
    "pycharm": {
     "name": "#%% md\n"
    }
   }
  },
  {
   "cell_type": "code",
   "execution_count": 1,
   "outputs": [
    {
     "name": "stdout",
     "output_type": "stream",
     "text": [
      "Clicked.\n",
      "Setting title: Все еще мое приложение\n",
      "Window title changed: Все еще мое приложение\n",
      "Clicked.\n",
      "Setting title: Это удивительно\n",
      "Window title changed: Это удивительно\n",
      "Clicked.\n",
      "Setting title: Мое приложение\n",
      "Window title changed: Мое приложение\n",
      "Clicked.\n",
      "Setting title: Это удивительно\n",
      "Window title changed: Это удивительно\n",
      "Clicked.\n",
      "Setting title: Что-то пошло не так\n",
      "Window title changed: Что-то пошло не так\n"
     ]
    },
    {
     "data": {
      "text/plain": "0"
     },
     "execution_count": 1,
     "metadata": {},
     "output_type": "execute_result"
    }
   ],
   "source": [
    "\n",
    "from PyQt5.QtWidgets import QApplication, QMainWindow, QPushButton\n",
    "from random import choice\n",
    "\n",
    "\n",
    "window_titles = [\n",
    "    \"Мое приложение\",\n",
    "    \"Мое приложение\",\n",
    "    \"Все еще мое приложение\",\n",
    "    \"Все еще мое приложение\",\n",
    "    \"Что такое?\",\n",
    "    \"Что такое?\",\n",
    "    \"Это удивительно\",\n",
    "    \"Это удивительно\",\n",
    "    \"Что-то пошло не так\"\n",
    "]\n",
    "\n",
    "\n",
    "class MainWindow(QMainWindow):\n",
    "    \"\"\"\n",
    "    Главное окно приложения.\n",
    "\n",
    "    Атрибуты:\n",
    "        n_times_clicked (int): Счетчик, сколько раз была нажата кнопка.\n",
    "        button (QPushButton): Кнопка в центре главного окна.\n",
    "\n",
    "    Методы:\n",
    "        the_button_was_clicked: Обрабатывает событие нажатия на кнопку, обновляя заголовок окна.\n",
    "        the_window_title_changed: Обрабатывает изменение заголовка окна, деактивирует кнопку, если заголовок - \"Что-то пошло не так\".\n",
    "    \"\"\"\n",
    "    def __init__(self):\n",
    "        super().__init__()\n",
    "        self.n_times_clicked = 0\n",
    "        self.setWindowTitle(\" Мое приложение \")\n",
    "        self.button = QPushButton(\"Нажми!\")\n",
    "        self.button.clicked.connect(self.the_button_was_clicked)\n",
    "        self.windowTitleChanged.connect(self.the_window_title_changed)\n",
    "        self.setCentralWidget(self.button)\n",
    "\n",
    "    def the_button_was_clicked(self):\n",
    "        \"\"\"\n",
    "        Этот метод вызывается каждый раз, когда кнопка нажимается.\n",
    "        Он выбирает случайное название из списка и устанавливает его в качестве заголовка окна.\n",
    "        \"\"\"\n",
    "        print(\"Clicked.\")\n",
    "        new_window_title = choice(window_titles)\n",
    "        print(f\"Setting title: {new_window_title}\")\n",
    "        self.setWindowTitle(new_window_title)\n",
    "\n",
    "    def the_window_title_changed(self, window_title):\n",
    "        \"\"\"\n",
    "        Этот метод вызывается каждый раз, когда заголовок окна изменяется.\n",
    "        Если заголовок окна становится 'Что-то пошло не так', кнопка становится неактивной.\n",
    "\n",
    "        :param window_title: новый заголовок окна\n",
    "        \"\"\"\n",
    "        print(f\"Window title changed: {window_title}\")\n",
    "        if window_title == 'Что-то пошло не так':\n",
    "            self.button.setDisabled(True)\n",
    "\n",
    "\n",
    "app = QApplication([])\n",
    "window = MainWindow()\n",
    "window.show()\n",
    "\n",
    "# Запуск приложения\n",
    "app.exec_()"
   ],
   "metadata": {
    "collapsed": false,
    "pycharm": {
     "name": "#%%\n"
    }
   }
  },
  {
   "cell_type": "code",
   "execution_count": 1,
   "outputs": [
    {
     "data": {
      "text/plain": "0"
     },
     "execution_count": 1,
     "metadata": {},
     "output_type": "execute_result"
    }
   ],
   "source": [
    "from PyQt5.QtWidgets import QApplication, QMainWindow, QLabel, QLineEdit, QVBoxLayout, QWidget\n",
    "\n",
    "class MainWindow(QMainWindow):\n",
    "    \"\"\"\n",
    "    Главное окно приложения.\n",
    "\n",
    "    Атрибуты:\n",
    "    label (QLabel): Метка, отображающая текст.\n",
    "    input (QLineEdit): Поле ввода для текста.\n",
    "    \"\"\"\n",
    "    def __init__(self):\n",
    "        \"\"\"\n",
    "        Конструктор класса MainWindow.\n",
    "        \"\"\"\n",
    "        super().__init__()\n",
    "        self.setWindowTitle(\"My App\") # Заголовок окна.\n",
    "        self.label = QLabel() # Создание метки.\n",
    "        self.input = QLineEdit() # Создание поля ввода.\n",
    "\n",
    "        # Подключение сигнала изменения текста в поле ввода к слоту, который устанавливает текст в метку.\n",
    "        #self.input.textChanged.connect(self.label.setText)\n",
    "        #self.input.textChanged.connect(lambda text: self.label.setText(text + \"\\n\" + text))\n",
    "\n",
    "        self.input.textChanged.connect(lambda text: self.label.setText(f\"<p style='line-height: 20px;'>{text}</p><p style='line-height: 20px;'>{text}</p>\"))\n",
    "\n",
    "\n",
    "        # Создание и настройка компоновки для размещения виджетов.\n",
    "        layout = QVBoxLayout()\n",
    "        layout.addWidget(self.input)\n",
    "        layout.addWidget(self.label)\n",
    "\n",
    "        # Создание контейнера для установки компоновки и установка его как центральный виджет.\n",
    "        container = QWidget()\n",
    "        container.setLayout(layout)\n",
    "        self.setCentralWidget(container)\n",
    "\n",
    "\n",
    "app = QApplication([])\n",
    "window = MainWindow()\n",
    "window.show()\n",
    "\n",
    "app.exec_()"
   ],
   "metadata": {
    "collapsed": false,
    "pycharm": {
     "name": "#%%\n"
    }
   }
  },
  {
   "cell_type": "code",
   "execution_count": null,
   "outputs": [],
   "source": [],
   "metadata": {
    "collapsed": false,
    "pycharm": {
     "name": "#%%\n",
     "is_executing": true
    }
   }
  },
  {
   "cell_type": "code",
   "execution_count": 1,
   "outputs": [
    {
     "data": {
      "text/plain": "0"
     },
     "execution_count": 1,
     "metadata": {},
     "output_type": "execute_result"
    }
   ],
   "source": [
    "from PyQt5.QtWidgets import QApplication, QWidget, QLabel, QHBoxLayout, QVBoxLayout\n",
    "from PyQt5.QtGui import QPixmap\n",
    "\n",
    "class LabelExample(QWidget):\n",
    "    \"\"\"\n",
    "    Пример окна с QLabel, демонстрирующий отображение изображений и текста.\n",
    "    \"\"\"\n",
    "    def __init__(self):\n",
    "        super().__init__()\n",
    "        # Установка свойств окна\n",
    "        self.setWindowTitle('QLabel Example')\n",
    "        self.setGeometry(100, 100, 300, 200) # Позиция и размеры окна\n",
    "\n",
    "        # Создание QLabel для текста\n",
    "        label_text = QLabel(\"Эмблема языка Rust и символ всех rustaceans краб ferris\", self)\n",
    "\n",
    "        # Создание первой QLabel для изображения\n",
    "        label_image1 = QLabel(self)\n",
    "        pixmap1 = QPixmap(\"Rust.png\")\n",
    "        label_image1.setPixmap(pixmap1) # Установка первого изображения в QLabel\n",
    "\n",
    "        # Создание второй QLabel для изображения\n",
    "        label_image2 = QLabel(self)\n",
    "        pixmap2 = QPixmap(\"ferris.png\")\n",
    "        label_image2.setPixmap(pixmap2) # Установка второго изображения в QLabel\n",
    "\n",
    "        # Создание горизонтального макета для изображений\n",
    "        hbox_images = QHBoxLayout()\n",
    "        hbox_images.addWidget(label_image1)\n",
    "        hbox_images.addWidget(label_image2)\n",
    "\n",
    "        # Создание вертикального макета и добавление в него QLabel для текста и горизонтального макета с изображениями\n",
    "        vbox = QVBoxLayout()\n",
    "        vbox.addWidget(label_text)\n",
    "        vbox.addLayout(hbox_images)\n",
    "\n",
    "        # Установка вертикального макета для виджета\n",
    "        self.setLayout(vbox)\n",
    "        self.show()\n",
    "\n",
    "\n",
    "app = QApplication([])\n",
    "window = LabelExample()\n",
    "window.show()\n",
    "app.exec_()"
   ],
   "metadata": {
    "collapsed": false,
    "pycharm": {
     "name": "#%%\n"
    }
   }
  },
  {
   "cell_type": "code",
   "execution_count": null,
   "outputs": [],
   "source": [],
   "metadata": {
    "collapsed": false,
    "pycharm": {
     "name": "#%%\n"
    }
   }
  },
  {
   "cell_type": "markdown",
   "source": [
    "### Задание 3.\n",
    "\n",
    "Написать программу, которая будет позволять пользователю вводить в два текстовых поля целые числа, а по нажатию на кнопку – вычислять значение суммы чисел или разности в зависимости от выбора в Combobox и выводить в метку «Ответ:»."
   ],
   "metadata": {
    "collapsed": false,
    "pycharm": {
     "name": "#%% md\n"
    }
   }
  },
  {
   "cell_type": "code",
   "execution_count": 2,
   "outputs": [],
   "source": [
    "!designer"
   ],
   "metadata": {
    "collapsed": false,
    "pycharm": {
     "name": "#%%\n"
    }
   }
  },
  {
   "cell_type": "code",
   "execution_count": 3,
   "outputs": [],
   "source": [
    "!pyuic5 -x task3_1.ui -o ui_calculator.py"
   ],
   "metadata": {
    "collapsed": false,
    "pycharm": {
     "name": "#%%\n"
    }
   }
  },
  {
   "cell_type": "code",
   "execution_count": null,
   "outputs": [
    {
     "ename": "TypeError",
     "evalue": "NoneType takes no arguments",
     "output_type": "error",
     "traceback": [
      "\u001B[1;31m---------------------------------------------------------------------------\u001B[0m",
      "\u001B[1;31mTypeError\u001B[0m                                 Traceback (most recent call last)",
      "Cell \u001B[1;32mIn [1], line 4\u001B[0m\n\u001B[0;32m      1\u001B[0m \u001B[38;5;28;01mfrom\u001B[39;00m \u001B[38;5;21;01mPyQt5\u001B[39;00m \u001B[38;5;28;01mimport\u001B[39;00m QtWidgets\n\u001B[0;32m      2\u001B[0m \u001B[38;5;28;01mfrom\u001B[39;00m \u001B[38;5;21;01mui_calculator\u001B[39;00m \u001B[38;5;28;01mimport\u001B[39;00m Ui_MainWindow\n\u001B[1;32m----> 4\u001B[0m \u001B[38;5;28;01mclass\u001B[39;00m \u001B[38;5;21;01mCalculatorApp\u001B[39;00m(QtWidgets\u001B[38;5;241m.\u001B[39mQMainWindow):\n\u001B[0;32m      5\u001B[0m     \u001B[38;5;28;01mdef\u001B[39;00m \u001B[38;5;21m__init__\u001B[39m(\u001B[38;5;28mself\u001B[39m):\n\u001B[0;32m      6\u001B[0m         \u001B[38;5;28msuper\u001B[39m(CalculatorApp, \u001B[38;5;28mself\u001B[39m)\u001B[38;5;241m.\u001B[39m\u001B[38;5;21m__init__\u001B[39m()\n",
      "\u001B[1;31mTypeError\u001B[0m: NoneType takes no arguments"
     ]
    }
   ],
   "source": [
    "from PyQt5 import QtWidgets\n",
    "from ui_calculator import Ui_MainWindow\n",
    "\n",
    "class CalculatorApp(QtWidgets.QMainWindow):\n",
    "    def __init__(self):\n",
    "        super(CalculatorApp, self).__init__()\n",
    "        self.ui = Ui_MainWindow() # Создаем экземпляр UI класса\n",
    "        self.ui.setupUi(self) # Инициализируем дизайн\n",
    "\n",
    "        # Настраиваем comboBox с операциями\n",
    "        self.ui.comboBox.addItem(\"+\")\n",
    "        self.ui.comboBox.addItem(\"-\")\n",
    "\n",
    "        # Подключаем кнопку к методу calculate\n",
    "        self.ui.pushButton.clicked.connect(self.calculate)\n",
    "\n",
    "    def calculate(self):\n",
    "        try:\n",
    "            # Получаем и преобразуем числа из QLineEdit\n",
    "            number1 = float(self.ui.lineEdit.text())\n",
    "            number2 = float(self.ui.lineEdit_2.text())\n",
    "        except ValueError:\n",
    "            # Если преобразовать не удалось, выводим ошибку\n",
    "            self.ui.label.setText(\"Ошибка: введите корректные числа.\")\n",
    "            return\n",
    "\n",
    "        # Выполняем операцию в зависимости от выбора в comboBox\n",
    "        operation = self.ui.comboBox.currentText()\n",
    "        if operation == \"+\":\n",
    "            result = number1 + number2\n",
    "        elif operation == \"-\":\n",
    "            result = number1 - number2\n",
    "\n",
    "        # Выводим результат в label\n",
    "        self.ui.label.setText(f\"Ответ: {result}\")\n",
    "\n",
    "\n",
    "app = QtWidgets.QApplication([])\n",
    "window = CalculatorApp()\n",
    "window.show()\n",
    "app.exec_()"
   ],
   "metadata": {
    "collapsed": false,
    "pycharm": {
     "name": "#%%\n"
    }
   }
  },
  {
   "cell_type": "markdown",
   "source": [
    "### Задание 4.\n",
    "\n",
    "Используя канву и графические примитивы, создать следующие изображения, расположив их в центре вкладки. Все необходимые параметры запросить у пользователя, использовав виджеты.\n",
    "Круг, разделенный на n равных секторов, каждый из которых закрашен случайным цветом. Два соседних сектора не должны иметь одинаковый цвет;"
   ],
   "metadata": {
    "collapsed": false,
    "pycharm": {
     "name": "#%% md\n"
    }
   }
  },
  {
   "cell_type": "code",
   "execution_count": 2,
   "outputs": [
    {
     "ename": "SystemExit",
     "evalue": "0",
     "output_type": "error",
     "traceback": [
      "An exception has occurred, use %tb to see the full traceback.\n",
      "\u001B[1;31mSystemExit\u001B[0m\u001B[1;31m:\u001B[0m 0\n"
     ]
    },
    {
     "name": "stderr",
     "output_type": "stream",
     "text": [
      "C:\\Users\\morph\\AppData\\Roaming\\Python\\Python310\\site-packages\\IPython\\core\\interactiveshell.py:3386: UserWarning: To exit: use 'exit', 'quit', or Ctrl-D.\n",
      "  warn(\"To exit: use 'exit', 'quit', or Ctrl-D.\", stacklevel=1)\n"
     ]
    }
   ],
   "source": [
    "from PyQt5.QtWidgets import QApplication, QMainWindow, QPushButton, QGraphicsView, QGraphicsScene, QInputDialog\n",
    "from PyQt5.QtGui import QPainter, QBrush, QColor, QPainterPath, QPen\n",
    "from PyQt5.QtCore import Qt\n",
    "import sys\n",
    "import random\n",
    "\n",
    "class CircleSectorsApp(QMainWindow):\n",
    "    \"\"\"\n",
    "    Главный класс приложения, создающий окно с графической сценой и кнопкой.\n",
    "    \"\"\"\n",
    "    def __init__(self):\n",
    "        super().__init__()\n",
    "\n",
    "        # Устанавливаем название и размеры окна\n",
    "        self.setWindowTitle(\"Circle Sectors App\")\n",
    "        self.setGeometry(100, 100, 500, 500)\n",
    "\n",
    "        # Создаем графическую сцену и виджет для ее отображения\n",
    "        self.scene = QGraphicsScene()\n",
    "        self.view = QGraphicsView(self.scene, self)\n",
    "        self.view.setGeometry(20, 20, 460, 460)\n",
    "\n",
    "        # Кнопка для запуска процесса рисования круга\n",
    "        self.ask_button = QPushButton(\"Создать круг\", self)\n",
    "        self.ask_button.clicked.connect(self.draw_circle)\n",
    "        self.ask_button.setGeometry(20, 480, 460, 30)\n",
    "\n",
    "    def draw_circle(self):\n",
    "        \"\"\"\n",
    "        Метод для рисования круга, разделенного на секторы.\n",
    "        \"\"\"\n",
    "        # Очищаем сцену перед рисованием нового круга\n",
    "        self.scene.clear()\n",
    "\n",
    "        # Запрашиваем у пользователя количество секторов\n",
    "        sectors, ok = QInputDialog.getInt(self, \"Input\", \"Введите количество секторов (n):\")\n",
    "\n",
    "        if ok and sectors > 0:\n",
    "            width = self.view.frameSize().width()\n",
    "        height = self.view.frameSize().height()\n",
    "        circle_radius = min(width, height) // 3\n",
    "        circle_x, circle_y = width // 2, height // 2\n",
    "\n",
    "        prev_color = None\n",
    "\n",
    "        # Рисуем каждый сектор круга\n",
    "        for i in range(sectors):\n",
    "            start_angle = (360 / sectors * i) * 16 # PyQt5 requires angles in 1/16th of a degree\n",
    "            span_angle = (360 / sectors) * 16 # PyQt5 requires angles in 1/16th of a degree\n",
    "\n",
    "            # Генерируем случайный цвет для сектора\n",
    "            color = self.generate_random_color(exclude=prev_color)\n",
    "            prev_color = color\n",
    "\n",
    "            # Создаем QPainterPath для рисования сектора\n",
    "            path = QPainterPath()\n",
    "            path.moveTo(circle_x, circle_y)\n",
    "            path.arcTo(circle_x - circle_radius, circle_y - circle_radius,\n",
    "                       circle_radius * 2, circle_radius * 2,\n",
    "                       start_angle / 16, span_angle / 16)\n",
    "            path.lineTo(circle_x, circle_y)\n",
    "\n",
    "            # Добавляем созданный сектор на сцену\n",
    "            self.scene.addPath(path, QPen(Qt.NoPen), QBrush(color))\n",
    "\n",
    "\n",
    "    def generate_random_color(self, exclude=None):\n",
    "            \"\"\"\n",
    "            Генерация случайного цвета, исключая предыдущий.\n",
    "            \"\"\"\n",
    "            color = QColor(random.randint(0, 255), random.randint(0, 255), random.randint(0, 255))\n",
    "            # Проверяем, чтобы цвет не совпадал с предыдущим\n",
    "            while color.name() == exclude:\n",
    "                color = QColor(random.randint(0, 255), random.randint(0, 255), random.randint(0, 255))\n",
    "            return color\n",
    "\n",
    "    def closeEvent(self, event):\n",
    "        event.accept()\n",
    "\n",
    "\n",
    "\n",
    "    # Создаем экземпляр приложения и запускаем его\n",
    "app = QApplication(sys.argv)\n",
    "mainWin = CircleSectorsApp()\n",
    "mainWin.show()\n",
    "sys.exit(app.exec_())"
   ],
   "metadata": {
    "collapsed": false,
    "pycharm": {
     "name": "#%%\n"
    }
   }
  },
  {
   "cell_type": "markdown",
   "source": [
    "### Задание 6\n",
    "\n",
    "![](66.png)"
   ],
   "metadata": {
    "collapsed": false,
    "pycharm": {
     "name": "#%% md\n"
    }
   }
  },
  {
   "cell_type": "code",
   "execution_count": null,
   "outputs": [],
   "source": [
    "import sys\n",
    "from PyQt5.QtWidgets import QApplication, QMainWindow, QLabel, QSpinBox, QPushButton, QCheckBox, QComboBox, QVBoxLayout, QHBoxLayout, QWidget\n",
    "import math\n",
    "\n",
    "class CalculatorApp(QMainWindow):\n",
    "    def __init__(self):\n",
    "        super().__init__()\n",
    "\n",
    "        # Главное окно\n",
    "        self.setWindowTitle(\"Калькулятор\")\n",
    "        self.setGeometry(100, 100, 400, 250)\n",
    "\n",
    "        # Central widget and layout\n",
    "        central_widget = QWidget(self)\n",
    "        self.setCentralWidget(central_widget)\n",
    "        main_layout = QVBoxLayout(central_widget)\n",
    "\n",
    "        # Результат\n",
    "        self.result_label = QLabel(\"Результат: \", central_widget)\n",
    "        main_layout.addWidget(self.result_label)\n",
    "\n",
    "        # Кнопка \"Вычислить\"\n",
    "        self.calculate_btn = QPushButton(\"Вычислить\", central_widget)\n",
    "        self.calculate_btn.clicked.connect(self.calculate)\n",
    "        main_layout.addWidget(self.calculate_btn)\n",
    "\n",
    "        # Checkbutton \"Кнопка работает\"\n",
    "        self.btn_works_cb = QCheckBox(\"Кнопка работает\", central_widget)\n",
    "        main_layout.addWidget(self.btn_works_cb)\n",
    "\n",
    "        # Кнопка \"Выход\"\n",
    "        self.exit_btn = QPushButton(\"Выход\", central_widget)\n",
    "        self.exit_btn.clicked.connect(self.close)\n",
    "        main_layout.addWidget(self.exit_btn)\n",
    "\n",
    "        # Spinbox \"Аргумент\"\n",
    "        self.argument_spinbox = QSpinBox(central_widget)\n",
    "        self.argument_spinbox.setMaximum(9999999)\n",
    "        self.argument_spinbox.valueChanged.connect(self.auto_calculate)\n",
    "        main_layout.addWidget(self.argument_spinbox)\n",
    "\n",
    "        # Combobox \"Функция\"\n",
    "        self.function_combobox = QComboBox(central_widget)\n",
    "        self.function_combobox.addItems([\"sqr(X)\", \"sqrt(X)\"])\n",
    "        self.function_combobox.currentIndexChanged.connect(self.auto_calculate)\n",
    "        main_layout.addWidget(self.function_combobox)\n",
    "\n",
    "    def calculate(self):\n",
    "        arg = self.argument_spinbox.value()\n",
    "        func = self.function_combobox.currentText()\n",
    "\n",
    "        if func == \"sqr(X)\":\n",
    "            result = arg ** 2\n",
    "        elif func == \"sqrt(X)\":\n",
    "            if arg < 0:\n",
    "                self.result_label.setText(\"Ошибка\")\n",
    "                return\n",
    "            result = math.sqrt(arg)\n",
    "\n",
    "        self.result_label.setText(f\"Результат: {result}\")\n",
    "\n",
    "    def auto_calculate(self):\n",
    "        if not self.btn_works_cb.isChecked():\n",
    "            self.calculate()\n",
    "\n",
    "\n",
    "app = QApplication(sys.argv)\n",
    "mainWin = CalculatorApp()\n",
    "mainWin.show()\n",
    "sys.exit(app.exec_())"
   ],
   "metadata": {
    "collapsed": false,
    "pycharm": {
     "name": "#%%\n",
     "is_executing": true
    }
   }
  },
  {
   "cell_type": "code",
   "execution_count": null,
   "outputs": [],
   "source": [],
   "metadata": {
    "collapsed": false,
    "pycharm": {
     "name": "#%%\n"
    }
   }
  }
 ],
 "metadata": {
  "kernelspec": {
   "display_name": "Python 3",
   "language": "python",
   "name": "python3"
  },
  "language_info": {
   "codemirror_mode": {
    "name": "ipython",
    "version": 2
   },
   "file_extension": ".py",
   "mimetype": "text/x-python",
   "name": "python",
   "nbconvert_exporter": "python",
   "pygments_lexer": "ipython2",
   "version": "2.7.6"
  }
 },
 "nbformat": 4,
 "nbformat_minor": 0
}