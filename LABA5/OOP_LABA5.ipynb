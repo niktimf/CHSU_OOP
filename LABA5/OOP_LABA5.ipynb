{
 "cells": [
  {
   "cell_type": "markdown",
   "source": [
    "# Лабораторная работа\n",
    "## СОЗДАНИЕ ГРАФИЧЕСКОГО ИНТЕРФЕЙСА ПОЛЬЗОВАТЕЛЯ В PYTHON(часть 2)"
   ],
   "metadata": {
    "collapsed": false,
    "pycharm": {
     "name": "#%% md\n"
    }
   }
  },
  {
   "cell_type": "markdown",
   "source": [
    "### Задание 1.\n",
    "Разберите, реализуйте в системе программирования и протестируйте программу, cоответствующую примеру лекции на изменение свойств виджетов (слайд  14). Измените программу так, чтобы первоначальное положение надписи задавалось случайным образом, при этом надпись должна полностью помещаться внутри окна и не накладываться на другие компоненты. Дополнить обработчики событий так, чтобы надпись не могла полностью или частично переместиться за пределы окна, а останавливалась у левой и правой границ.\n",
    "\n",
    "![](51.png)"
   ],
   "metadata": {
    "collapsed": false,
    "pycharm": {
     "name": "#%% md\n"
    }
   }
  },
  {
   "cell_type": "code",
   "execution_count": 1,
   "outputs": [],
   "source": [
    "from tkinter import *\n",
    "import random\n",
    "\n",
    "\n",
    "def move_left():\n",
    "    \"\"\"\n",
    "    Обработчик кнопки \"Влево\".\n",
    "\n",
    "    Перемещает надпись влево на величину, указанную в поле Spinbox,\n",
    "    не позволяя ей выйти за левую границу окна.\n",
    "    \"\"\"\n",
    "    shift = int(shift_amount.get()) # хранит величину сдвига\n",
    "    new_x_position = max(movable_label.winfo_x() - shift, 0)\n",
    "    movable_label.place(x=new_x_position, y=movable_label.winfo_y())\n",
    "\n",
    "def move_right():\n",
    "    \"\"\"\n",
    "    Обработчик кнопки \"Вправо\".\n",
    "\n",
    "    Перемещает надпись вправо на величину, указанную в поле Spinbox,\n",
    "    не позволяя ей выйти за правую границу окна.\n",
    "    \"\"\"\n",
    "    shift = int(shift_amount.get()) # хранит величину сдвига\n",
    "    new_x_position = min(movable_label.winfo_x() + shift, main_window.winfo_width() - movable_label.winfo_width())\n",
    "    movable_label.place(x=new_x_position, y=movable_label.winfo_y())\n",
    "\n",
    "main_window = Tk()\n",
    "main_window.geometry(\"500x200+30+30\")\n",
    "\n",
    "movable_label = Label(main_window, text=\"Двигай меня\")\n",
    "movable_label.update_idletasks()\n",
    "start_x = random.randint(0, main_window.winfo_width() - movable_label.winfo_width())\n",
    "start_y = random.randint(0, main_window.winfo_height() - movable_label.winfo_height())\n",
    "movable_label.place(x=start_x, y=start_y)\n",
    "\n",
    "left_button = Button(main_window, text='Влево', command=move_left)\n",
    "right_button = Button(main_window, text='Вправо', command=move_right)\n",
    "shift_amount = Spinbox(main_window, from_=1, to=50) # величина, которая показывает на сколько надо сдвинуть метку\n",
    "\n",
    "left_button.place(relx=0.25, rely=1, anchor=S)\n",
    "right_button.place(relx=0.75, rely=1, anchor=S)\n",
    "shift_amount.place(relx=0.5, rely=1, anchor=S)\n",
    "\n",
    "main_window.mainloop()"
   ],
   "metadata": {
    "collapsed": false,
    "pycharm": {
     "name": "#%%\n"
    }
   }
  },
  {
   "cell_type": "markdown",
   "source": [
    "### Задание 2.\n",
    "Разберите, реализуйте в системе программирования и протестируйте программу, соответствующую примеру лекции на обработку событий (слайд 16).\n",
    "Измените программу так, чтобы при изменении размеров окна диапазон случайно задаваемых координат также изменялся: кнопка всегда полностью остается внутри окна, но может оказаться в любой точке окна, обладающей таким свойством.\n",
    "\n",
    "![](52.png)"
   ],
   "metadata": {
    "collapsed": false,
    "pycharm": {
     "name": "#%% md\n"
    }
   }
  },
  {
   "cell_type": "code",
   "execution_count": 2,
   "outputs": [],
   "source": [
    "from tkinter import *\n",
    "import random\n",
    "\n",
    "\n",
    "def on_root_leave(event):\n",
    "    \"\"\"\n",
    "    Обработчик события, срабатывающий при уходе курсора из области окна.\n",
    "\n",
    "    Изменяет заголовок окна, отображая координаты курсора в момент ухода.\n",
    "    \"\"\"\n",
    "    main_window.title(f\"Уже уходите? ({event.x},{event.y})\")\n",
    "\n",
    "\n",
    "def on_root_enter(event):\n",
    "    \"\"\"\n",
    "    Обработчик события, срабатывающий при входе курсора в область окна.\n",
    "\n",
    "    Изменяет заголовок окна, приветствуя пользователя.\n",
    "    \"\"\"\n",
    "    main_window.title(\"С возвращением!\")\n",
    "\n",
    "\n",
    "def on_button_hover(event):\n",
    "    \"\"\"\n",
    "    Обработчик события, срабатывающий при наведении курсора на кнопку.\n",
    "\n",
    "    Перемещает кнопку в случайное место в пределах окна.\n",
    "    \"\"\"\n",
    "    max_x = main_window.winfo_width() - click_me_button.winfo_width()\n",
    "    max_y = main_window.winfo_height() - click_me_button.winfo_height()\n",
    "    new_x = random.randint(0, max_x)\n",
    "    new_y = random.randint(0, max_y)\n",
    "    click_me_button.place(x=new_x, y=new_y)\n",
    "\n",
    "# Инициализация главного окна\n",
    "main_window = Tk()\n",
    "main_window.geometry(\"500x500+30+30\")\n",
    "\n",
    "# Создание кнопки и её размещение в окне\n",
    "click_me_button = Button(main_window, text='Нажми меня')\n",
    "click_me_button.place(x=10, y=10, width=100, height=50)\n",
    "\n",
    "# Привязка обработчиков событий к соответствующим событиям\n",
    "click_me_button.bind('<Enter>', on_button_hover) # Когда курсор входит в область кнопки\n",
    "main_window.bind('<Leave>', on_root_leave)       # Когда курсор покидает область кнопки\n",
    "main_window.bind('<Enter>', on_root_enter)       # Когда курсор входит в область основного окна\n",
    "\n",
    "main_window.mainloop()"
   ],
   "metadata": {
    "collapsed": false,
    "pycharm": {
     "name": "#%%\n"
    }
   }
  },
  {
   "cell_type": "markdown",
   "source": [
    "### Задание 3.\n",
    "Самостоятельно создайте приложение по следующему описанию.\n",
    "Имеется окно с надписью в заголовке «Окно активно» / «Окно неактивно» - надпись меняется в зависимости от того является активным данное окно или нет.\n",
    "Внутри окна размещена надпись «Двигай меня», которая должна перемещаться при нажатии клавиш клавиатуры (клавиши со стрелками: влево, вправо, вверх, вниз), если ранее текст надписи был изменен, то при движении должен вновь становиться «Двигай меня».\n",
    "При одинарном щелчке внутри окна любой из клавиш мыши надпись должна изменять текст на «Нажали <такую-то> клавишу мыши», где <такую-то> - это левую, правую или среднюю.\n",
    "При двойном щелчке внутри окна левой клавишей мыши должна появляться/исчезать небольшая картинка в центре окна (изображение можно выбрать самостоятельно), сразу после запуска программы картинка не видна.\n",
    "При «наезде» указателем мыши на надпись случайным образом изменяется цвет окна, а надпись\n",
    "случайным образом «отпрыгивает» внутри окна, текст надписи поочередно меняется на «Ай!», «Ой!»"
   ],
   "metadata": {
    "collapsed": false,
    "pycharm": {
     "name": "#%% md\n"
    }
   }
  },
  {
   "cell_type": "code",
   "execution_count": 7,
   "outputs": [],
   "source": [
    "import tkinter as tk\n",
    "import random\n",
    "\n",
    "class MyApp(tk.Tk):\n",
    "    \"\"\"Главный класс приложения.\"\"\"\n",
    "\n",
    "    def __init__(self):\n",
    "        \"\"\"Инициализация приложения.\"\"\"\n",
    "        super().__init__()\n",
    "\n",
    "        # Настройка главного окна\n",
    "        self.title(\"Окно активно\")\n",
    "        self.geometry(\"400x400+100+100\")\n",
    "\n",
    "        # Создание виджетов\n",
    "        self.label = tk.Label(self, text=\"Двигай меня\")\n",
    "        self.label.place(x=150, y=150)\n",
    "\n",
    "        self.photo = tk.PhotoImage(file=\"ferris.png\")\n",
    "        image_width = self.photo.width()\n",
    "        image_height = self.photo.height()\n",
    "\n",
    "        self.canvas = tk.Canvas(self, width=image_width, height=image_height)\n",
    "        self.canvas.pack()\n",
    "        self.canvas.pack_forget()\n",
    "\n",
    "\n",
    "        self.canvas.create_image(0, 0, anchor=tk.NW, image=self.photo)\n",
    "\n",
    "        # Привязка событий\n",
    "        self.bind(\"<Button-1>\", self.on_mouse_click)\n",
    "        self.bind(\"<Double-1>\", self.on_mouse_double_click)\n",
    "        self.label.bind(\"<Enter>\", self.on_label_hover)\n",
    "        self.bind(\"<KeyPress>\", self.on_key_press)\n",
    "\n",
    "\n",
    "    def on_mouse_click(self, event):\n",
    "        \"\"\"Обработчик одинарного клика мыши.\"\"\"\n",
    "        self.label.config(text=f\"Нажали {self.mouse_button_name(event.num)} клавишу мыши\")\n",
    "\n",
    "    def on_mouse_double_click(self, event):\n",
    "        \"\"\"Обработчик двойного клика мыши.\"\"\"\n",
    "        if self.canvas.winfo_viewable():\n",
    "            self.canvas.pack_forget()\n",
    "        else:\n",
    "            self.canvas.pack()\n",
    "\n",
    "    def on_label_hover(self, event):\n",
    "        \"\"\"Обработчик наведения курсора на метку.\"\"\"\n",
    "        self.label.place(x=random.randint(0, 300), y=random.randint(0, 350))\n",
    "        self.config(bg=random.choice([\"yellow\", \"lightblue\", \"lightgreen\", \"pink\", \"orange\"]))\n",
    "        self.label.config(text=random.choice([\"Ай!\", \"Ой!\"]))\n",
    "\n",
    "    def on_key_press(self, event):\n",
    "        \"\"\"Обработчик нажатия клавиш управления.\"\"\"\n",
    "        move = {\n",
    "            \"Up\": (0, -10),\n",
    "            \"Down\": (0, 10),\n",
    "            \"Left\": (-10, 0),\n",
    "            \"Right\": (10, 0)\n",
    "        }.get(event.keysym, (0, 0))\n",
    "\n",
    "        x, y = self.label.winfo_x() + move[0], self.label.winfo_y() + move[1]\n",
    "        x = max(0, min(300, x))\n",
    "        y = max(0, min(350, y))\n",
    "\n",
    "        self.label.config(text=\"Двигай меня\")\n",
    "        self.label.place(x=x, y=y)\n",
    "\n",
    "    def mouse_button_name(self, number):\n",
    "        \"\"\"Получение имени кнопки мыши по номеру.\"\"\"\n",
    "        return {\n",
    "            1: \"левую\",\n",
    "            2: \"среднюю\",\n",
    "            3: \"правую\"\n",
    "        }.get(number, \"неизвестную\")\n",
    "\n",
    "\n",
    "if __name__ == \"__main__\":\n",
    "    app = MyApp()\n",
    "    app.mainloop()"
   ],
   "metadata": {
    "collapsed": false,
    "pycharm": {
     "name": "#%%\n"
    }
   }
  },
  {
   "cell_type": "markdown",
   "source": [
    "### Задание 4.\n",
    "Разберите и повторите в Python примеры, приведенные в «Обучение Python GUI(уроки по Tkinter)», начиная с раздела «Добавление виджета ScrolledText (текстовая область Tkinter)» и до конца предложенного материала.\n",
    "[Ссылка](https://pythonru.com/uroki/obuchenie-python-gui-uroki-po-tkinter)"
   ],
   "metadata": {
    "collapsed": false,
    "pycharm": {
     "name": "#%% md\n"
    }
   }
  },
  {
   "cell_type": "markdown",
   "source": [
    "#### Добавление виджета ScrolledText (текстовая область Tkinter)"
   ],
   "metadata": {
    "collapsed": false,
    "pycharm": {
     "name": "#%% md\n"
    }
   }
  },
  {
   "cell_type": "code",
   "execution_count": 1,
   "outputs": [],
   "source": [
    "from tkinter import *\n",
    "from tkinter import scrolledtext\n",
    "\n",
    "\n",
    "window = Tk()\n",
    "window.title(\"Добро пожаловать в приложение PythonRu\")\n",
    "window.geometry('400x250')\n",
    "txt = scrolledtext.ScrolledText(window, width=40, height=10)\n",
    "txt.grid(column=0, row=0)\n",
    "window.mainloop()"
   ],
   "metadata": {
    "collapsed": false,
    "pycharm": {
     "name": "#%%\n"
    }
   }
  },
  {
   "cell_type": "markdown",
   "source": [
    "#### Создание всплывающего окна с сообщением"
   ],
   "metadata": {
    "collapsed": false,
    "pycharm": {
     "name": "#%% md\n"
    }
   }
  },
  {
   "cell_type": "code",
   "execution_count": 2,
   "outputs": [],
   "source": [
    "from tkinter import *\n",
    "from tkinter import messagebox\n",
    "\n",
    "\n",
    "def clicked():\n",
    "    messagebox.showinfo('Заголовок', 'Текст')\n",
    "\n",
    "\n",
    "window = Tk()\n",
    "window.title(\"Добро пожаловать в приложение PythonRu\")\n",
    "window.geometry('400x250')\n",
    "btn = Button(window, text='Клик', command=clicked)\n",
    "btn.grid(column=0, row=0)\n",
    "window.mainloop()"
   ],
   "metadata": {
    "collapsed": false,
    "pycharm": {
     "name": "#%%\n"
    }
   }
  },
  {
   "cell_type": "markdown",
   "source": [
    "#### Добавление SpinBox (Виджет спинбокс)"
   ],
   "metadata": {
    "collapsed": false,
    "pycharm": {
     "name": "#%% md\n"
    }
   }
  },
  {
   "cell_type": "code",
   "execution_count": 3,
   "outputs": [],
   "source": [
    "from tkinter import *\n",
    "\n",
    "\n",
    "window = Tk()\n",
    "window.title(\"Добро пожаловать в приложение PythonRu\")\n",
    "window.geometry('400x250')\n",
    "spin = Spinbox(window, from_=0, to=100, width=5)\n",
    "spin.grid(column=0, row=0)\n",
    "window.mainloop()"
   ],
   "metadata": {
    "collapsed": false,
    "pycharm": {
     "name": "#%%\n"
    }
   }
  },
  {
   "cell_type": "markdown",
   "source": [
    "#### Добавление виджета Progressbar"
   ],
   "metadata": {
    "collapsed": false,
    "pycharm": {
     "name": "#%% md\n"
    }
   }
  },
  {
   "cell_type": "code",
   "execution_count": 4,
   "outputs": [],
   "source": [
    "from tkinter import *\n",
    "from tkinter.ttk import Progressbar\n",
    "from tkinter import ttk\n",
    "\n",
    "\n",
    "window = Tk()\n",
    "window.title(\"Добро пожаловать в приложение PythonRu\")\n",
    "window.geometry('400x250')\n",
    "style = ttk.Style()\n",
    "style.theme_use('default')\n",
    "style.configure(\"black.Horizontal.TProgressbar\", background='black')\n",
    "bar = Progressbar(window, length=200, style='black.Horizontal.TProgressbar')\n",
    "bar['value'] = 70\n",
    "bar.grid(column=0, row=0)\n",
    "window.mainloop()"
   ],
   "metadata": {
    "collapsed": false,
    "pycharm": {
     "name": "#%%\n"
    }
   }
  },
  {
   "cell_type": "markdown",
   "source": [
    "#### Добавление полей"
   ],
   "metadata": {
    "collapsed": false,
    "pycharm": {
     "name": "#%% md\n"
    }
   }
  },
  {
   "cell_type": "code",
   "execution_count": 5,
   "outputs": [],
   "source": [
    "from tkinter import *\n",
    "from tkinter import Menu\n",
    "\n",
    "\n",
    "window = Tk()\n",
    "window.title(\"Добро пожаловать в приложение PythonRu\")\n",
    "window.geometry('400x250')\n",
    "menu = Menu(window)\n",
    "new_item = Menu(menu)\n",
    "new_item.add_command(label='Новый')\n",
    "menu.add_cascade(label='Файл', menu=new_item)\n",
    "window.config(menu=menu)\n",
    "window.mainloop()"
   ],
   "metadata": {
    "collapsed": false,
    "pycharm": {
     "name": "#%%\n"
    }
   }
  },
  {
   "cell_type": "markdown",
   "source": [
    "#### Добавление виджета Notebook (Управление вкладкой)"
   ],
   "metadata": {
    "collapsed": false,
    "pycharm": {
     "name": "#%% md\n"
    }
   }
  },
  {
   "cell_type": "code",
   "execution_count": 6,
   "outputs": [],
   "source": [
    "from tkinter import *\n",
    "from tkinter import ttk\n",
    "\n",
    "\n",
    "window = Tk()\n",
    "window.title(\"Добро пожаловать в приложение PythonRu\")\n",
    "window.geometry('400x250')\n",
    "tab_control = ttk.Notebook(window)\n",
    "tab1 = ttk.Frame(tab_control)\n",
    "tab_control.add(tab1, text='Первая')\n",
    "tab_control.pack(expand=1, fill='both')\n",
    "window.mainloop()"
   ],
   "metadata": {
    "collapsed": false,
    "pycharm": {
     "name": "#%%\n"
    }
   }
  },
  {
   "cell_type": "markdown",
   "source": [
    "#### Добавление виджетов на вкладку"
   ],
   "metadata": {
    "collapsed": false,
    "pycharm": {
     "name": "#%% md\n"
    }
   }
  },
  {
   "cell_type": "code",
   "execution_count": 7,
   "outputs": [],
   "source": [
    "from tkinter import *\n",
    "from tkinter import ttk\n",
    "\n",
    "\n",
    "window = Tk()\n",
    "window.title(\"Добро пожаловать в приложение PythonRu\")\n",
    "window.geometry('400x250')\n",
    "tab_control = ttk.Notebook(window)\n",
    "tab1 = ttk.Frame(tab_control)\n",
    "tab2 = ttk.Frame(tab_control)\n",
    "tab_control.add(tab1, text='Первая')\n",
    "tab_control.add(tab2, text='Вторая')\n",
    "lbl1 = Label(tab1, text='Вкладка 1')\n",
    "lbl1.grid(column=0, row=0)\n",
    "lbl2 = Label(tab2, text='Вкладка 2')\n",
    "lbl2.grid(column=0, row=0)\n",
    "tab_control.pack(expand=1, fill='both')\n",
    "window.mainloop()"
   ],
   "metadata": {
    "collapsed": false,
    "pycharm": {
     "name": "#%%\n"
    }
   }
  },
  {
   "cell_type": "markdown",
   "source": [
    "### Задание 5.\n",
    "Самостоятельно создайте программу, аналогичную стандартному приложению «Блокнот».\n",
    "Обязательные к реализации пункты меню:\n",
    "* Файл: Создать, Открыть…, Сохранить, Сохранить как…, Выход\n",
    "* Правка: Вырезать, Копировать, Вставить.\n",
    "* Справка: О программе – открывает окно с указанием авторства программы"
   ],
   "metadata": {
    "collapsed": false,
    "pycharm": {
     "name": "#%% md\n"
    }
   }
  },
  {
   "cell_type": "code",
   "execution_count": 2,
   "outputs": [],
   "source": [
    "import tkinter as tk\n",
    "from tkinter import filedialog, messagebox, simpledialog\n",
    "\n",
    "class Notepad(tk.Tk):\n",
    "    \"\"\"Базовый класс приложения 'Блокнот'.\"\"\"\n",
    "\n",
    "    def __init__(self):\n",
    "        \"\"\"Инициализация приложения.\"\"\"\n",
    "        super().__init__()\n",
    "\n",
    "        self.title(\"Блокнот\")\n",
    "\n",
    "        # Создание текстового поля\n",
    "        self.text = tk.Text(self, wrap=tk.NONE)\n",
    "        self.text.pack(fill=tk.BOTH, expand=1)\n",
    "\n",
    "        # Создание меню\n",
    "        menu = tk.Menu(self)\n",
    "        self.config(menu=menu)\n",
    "\n",
    "        # Меню \"Файл\"\n",
    "        file_menu = tk.Menu(menu)\n",
    "        menu.add_cascade(label=\"Файл\", menu=file_menu)\n",
    "        file_menu.add_command(label=\"Создать\", command=self.new_file)\n",
    "        file_menu.add_command(label=\"Открыть...\", command=self.open_file)\n",
    "        file_menu.add_command(label=\"Сохранить\", command=self.save_file)\n",
    "        file_menu.add_command(label=\"Сохранить как...\", command=self.save_as_file)\n",
    "        file_menu.add_separator()\n",
    "        #file_menu.add_command(label=\"Выход\", command=self.quit)\n",
    "        file_menu.add_command(label=\"Выход\", command=self.destroy)\n",
    "\n",
    "        # Меню \"Правка\"\n",
    "        edit_menu = tk.Menu(menu)\n",
    "        menu.add_cascade(label=\"Правка\", menu=edit_menu)\n",
    "        edit_menu.add_command(label=\"Вырезать\", command=self.cut_text)\n",
    "        edit_menu.add_command(label=\"Копировать\", command=self.copy_text)\n",
    "        edit_menu.add_command(label=\"Вставить\", command=self.paste_text)\n",
    "\n",
    "        # Меню \"Справка\"\n",
    "        help_menu = tk.Menu(menu)\n",
    "        menu.add_cascade(label=\"Справка\", menu=help_menu)\n",
    "        help_menu.add_command(label=\"О программе\", command=self.about)\n",
    "\n",
    "    def new_file(self):\n",
    "        \"\"\"Создать новый файл.\"\"\"\n",
    "        self.text.delete(1.0, tk.END)\n",
    "\n",
    "    def open_file(self):\n",
    "        \"\"\"Открыть существующий файл.\"\"\"\n",
    "        filepath = filedialog.askopenfilename()\n",
    "        if filepath:\n",
    "            with open(filepath, 'r') as file:\n",
    "                self.text.insert(1.0, file.read())\n",
    "\n",
    "    def save_file(self):\n",
    "        \"\"\"Сохранить файл.\"\"\"\n",
    "        filepath = filedialog.asksaveasfilename()\n",
    "        if filepath:\n",
    "            with open(filepath, 'w') as file:\n",
    "                file.write(self.text.get(1.0, tk.END))\n",
    "\n",
    "    def save_as_file(self):\n",
    "        \"\"\"Сохранить файл как...\"\"\"\n",
    "        self.save_file()\n",
    "\n",
    "    def cut_text(self):\n",
    "        \"\"\"Вырезать текст.\"\"\"\n",
    "        self.text.event_generate(\"<<Cut>>\")\n",
    "\n",
    "    def copy_text(self):\n",
    "        \"\"\"Копировать текст.\"\"\"\n",
    "        self.text.event_generate(\"<<Copy>>\")\n",
    "\n",
    "    def paste_text(self):\n",
    "        \"\"\"Вставить текст.\"\"\"\n",
    "        self.text.event_generate(\"<<Paste>>\")\n",
    "\n",
    "    def about(self):\n",
    "        \"\"\"Информация о программе.\"\"\"\n",
    "        messagebox.showinfo(\"О программе\", \"Блокнот\\nАвтор: Никита Тимофеенко\")\n",
    "\n",
    "if __name__ == \"__main__\":\n",
    "    app = Notepad()\n",
    "    app.mainloop()"
   ],
   "metadata": {
    "collapsed": false,
    "pycharm": {
     "name": "#%%\n"
    }
   }
  },
  {
   "cell_type": "markdown",
   "source": [
    "### Задание 6.\n",
    "Используя канву и графические примитивы, создать следующие изображения, расположив их в центре вкладки. Все необходимые параметры запросить у пользователя, использовав виджеты.\n",
    "\n",
    "Круг, разделенный на n равных секторов, каждый из которых закрашен случайным цветом.\n",
    "Два соседних сектора не должны иметь одинаковый цвет;"
   ],
   "metadata": {
    "collapsed": false,
    "pycharm": {
     "name": "#%% md\n"
    }
   }
  },
  {
   "cell_type": "code",
   "execution_count": 9,
   "outputs": [],
   "source": [
    "import tkinter as tk\n",
    "from tkinter import simpledialog, messagebox\n",
    "import random\n",
    "import math\n",
    "\n",
    "class CircleSectorsApp(tk.Tk):\n",
    "    def __init__(self):\n",
    "        \"\"\"Инициализация главного окна приложения.\"\"\"\n",
    "        super().__init__()\n",
    "\n",
    "        self.title(\"Circle Sectors App\")\n",
    "        self.geometry(\"500x500\")\n",
    "\n",
    "        self.canvas = tk.Canvas(self, bg=\"white\")\n",
    "        self.canvas.pack(padx=20, pady=20, expand=True, fill=tk.BOTH)\n",
    "\n",
    "        self.ask_button = tk.Button(self, text=\"Создать круг\", command=self.draw_circle)\n",
    "        self.ask_button.pack(pady=20)\n",
    "\n",
    "\n",
    "    def draw_circle(self):\n",
    "        \"\"\"Рисование круга, разделенного на секторы.\"\"\"\n",
    "        # Очищаем предыдущий круг, если он был\n",
    "        self.canvas.delete(\"all\")\n",
    "\n",
    "        # Запрашиваем у пользователя количество секторов\n",
    "        sectors = simpledialog.askinteger(\"Input\", \"Введите количество секторов (n):\")\n",
    "\n",
    "        if not sectors:\n",
    "            return\n",
    "\n",
    "        width, height = self.canvas.winfo_width(), self.canvas.winfo_height()\n",
    "        circle_radius = min(width, height) // 3\n",
    "        circle_x, circle_y = width // 2, height // 2\n",
    "\n",
    "\n",
    "        colors_used = []\n",
    "        prev_color = None\n",
    "\n",
    "        for i in range(sectors):\n",
    "            start_angle = 360 / sectors * i\n",
    "            end_angle = 360 / sectors * (i + 1)\n",
    "\n",
    "            color = self.generate_random_color(exclude=prev_color)\n",
    "            colors_used.append(color)\n",
    "            prev_color = color\n",
    "\n",
    "            # Рисуем сектор круга\n",
    "            self.canvas.create_arc(\n",
    "                circle_x - circle_radius, circle_y - circle_radius,\n",
    "                circle_x + circle_radius, circle_y + circle_radius,\n",
    "                start=start_angle, extent=end_angle - start_angle,\n",
    "                fill=color, outline=\"black\")\n",
    "\n",
    "\n",
    "    def generate_random_color(self, exclude=None):\n",
    "        \"\"\"\n",
    "        Генерация случайного цвета, исключая указанный.\n",
    "\n",
    "        Цвет в компьютерной графике обычно представляется в формате RGB (Red, Green, Blue), где каждый из компонентов может принимать значения от 0 до 255.\n",
    "        В `tkinter` цвет можно представить в шестнадцатеричном формате: `#RRGGBB`,\n",
    "        где RR, GG и BB - это две шестнадцатеричные цифры для красного, зеленого и синего цветов соответственно.\n",
    "\n",
    "        1. `random.randint(0, 255)` генерирует случайное целое число в диапазоне от 0 до 255.\n",
    "        2. f\"#{ ... :02x}\" преобразует это число в шестнадцатеричную строку и гарантирует, что она содержит ровно два символа (добавляя ведущий ноль, если необходимо).\n",
    "        3. Этот шаг повторяется для каждого из трёх цветов.\n",
    "        4. Затем эти три шестнадцатеричные строки объединяются в одну с добавлением в начало символа `#`.\n",
    "        \"\"\"\n",
    "\n",
    "        color = f\"#{random.randint(0, 255):02x}{random.randint(0, 255):02x}{random.randint(0, 255):02x}\"\n",
    "        while color == exclude:\n",
    "            color = f\"#{random.randint(0, 255):02x}{random.randint(0, 255):02x}{random.randint(0, 255):02x}\"\n",
    "        return color\n",
    "\n",
    "\n",
    "# Запускаем приложение\n",
    "app = CircleSectorsApp()\n",
    "app.mainloop()"
   ],
   "metadata": {
    "collapsed": false,
    "pycharm": {
     "name": "#%%\n"
    }
   }
  },
  {
   "cell_type": "markdown",
   "source": [
    "### Задание 7.\n",
    "Реализовать программу, имеющую аналогичный интерфейс. При изменении значений в компонентах для выбора должны изменяться соответствующие свойства. Скриншоты приведены с раскрытыми списками, чтобы полнее давать представление о возможностях.\n",
    "\n",
    "![](57.png)\n",
    "\n",
    "Примечание. В поле «Результат» должен записываться квадрат или квадратный корень аргумента.\n",
    "Если отмечен переключатель «Кнопка работает», то выполняться это должно только при нажатии\n",
    "кнопки «Вычислить». Если же переключатель выключен, то вычисления должны автоматически\n",
    "осуществляться при каждом изменении функции или аргумента."
   ],
   "metadata": {
    "collapsed": false,
    "pycharm": {
     "name": "#%% md\n"
    }
   }
  },
  {
   "cell_type": "code",
   "execution_count": 27,
   "outputs": [],
   "source": [
    "import tkinter as tk\n",
    "from tkinter import ttk\n",
    "import math\n",
    "\n",
    "class CalculatorApp(tk.Tk):\n",
    "\n",
    "    def __init__(self):\n",
    "        super().__init__()\n",
    "\n",
    "        # Главное окно\n",
    "        self.title(\"Калькулятор\")\n",
    "        self.geometry(\"400x250\")\n",
    "\n",
    "        # Labelframe \"Результат\"\n",
    "        self.result_frame = ttk.LabelFrame(self, text=\"Результат\")\n",
    "        self.result_frame.place(x=200, y=10, anchor=tk.N)\n",
    "        self.result_var = tk.StringVar()\n",
    "        self.result_label = ttk.Label(self.result_frame, textvariable=self.result_var)\n",
    "        self.result_label.pack(pady=20, padx=20)\n",
    "\n",
    "        # Кнопка \"Вычислить\"\n",
    "        self.calculate_btn = ttk.Button(self, text=\"Вычислить\", command=self.calculate)\n",
    "        self.calculate_btn.place(x=100, y=50)\n",
    "\n",
    "        # Checkbutton \"Кнопка работает\"\n",
    "        self.btn_works_var = tk.BooleanVar()\n",
    "        self.btn_works_cb = ttk.Checkbutton(self, text=\"Кнопка работает\", variable=self.btn_works_var)\n",
    "        self.btn_works_cb.place(x=80, y=90)\n",
    "\n",
    "        # Кнопка \"Выход\"\n",
    "        self.exit_btn = ttk.Button(self, text=\"Выход\", command=self.quit)\n",
    "        self.exit_btn.place(x=100, y=130)\n",
    "\n",
    "        # Spinbox \"Аргумент\"\n",
    "        ttk.Label(self, text=\"Аргумент\").place(x=200, y=60)\n",
    "        self.argument_var = tk.IntVar()\n",
    "        self.argument_spinbox = ttk.Spinbox(self, from_=0, to=float('inf'), textvariable=self.argument_var, width=3)\n",
    "        self.argument_spinbox.place(x=300, y=60)\n",
    "        self.argument_spinbox.bind(\"KeyRelease\", self.auto_calculate)\n",
    "\n",
    "        # Labelframe \"Функция\" и Combobox\n",
    "        self.function_frame = ttk.LabelFrame(self, text=\"Функция\")\n",
    "        self.function_frame.place(x=300, y=100)\n",
    "        self.function_var = tk.StringVar()\n",
    "        self.function_combobox = ttk.Combobox(self.function_frame, textvariable=self.function_var)\n",
    "        self.function_combobox[\"values\"] = (\"sqr(X)\", \"sqrt(X)\")\n",
    "        self.function_combobox.current(0) # Устанавливаем первый элемент по умолчанию\n",
    "        self.function_combobox.pack(pady=10, padx=10)\n",
    "        self.function_combobox.bind(\"«ComboboxSelected»\", self.auto_calculate)\n",
    "\n",
    "\n",
    "\n",
    "    def calculate(self):\n",
    "        \"\"\"Вычисляет значение в зависимости от выбранной функции и аргумента.\"\"\"\n",
    "        arg = self.argument_var.get()\n",
    "        func = self.function_var.get()\n",
    "\n",
    "        if func == \"sqr(X)\":\n",
    "            result = arg ** 2\n",
    "        elif func == \"sqrt(X)\":\n",
    "            if arg < 0:\n",
    "                self.result_var.set(\"Ошибка\")\n",
    "                return\n",
    "            result = math.sqrt(arg)\n",
    "        self.result_var.set(result)\n",
    "\n",
    "    def auto_calculate(self, event=None):\n",
    "        \"\"\"Автоматически вычисляет значение, если checkbutton \"Кнопка работает\" не активен.\"\"\"\n",
    "        if not self.btn_works_var.get():\n",
    "            self.calculate()\n",
    "\n",
    "# Если скрипт запущен как основной, создаем экземпляр приложения и запускаем его\n",
    "if __name__ == \"__main__\":\n",
    "    app = CalculatorApp()\n",
    "    app.mainloop()"
   ],
   "metadata": {
    "collapsed": false,
    "pycharm": {
     "name": "#%%\n"
    }
   }
  },
  {
   "cell_type": "code",
   "execution_count": 22,
   "outputs": [],
   "source": [
    "import tkinter as tk\n",
    "from tkinter import ttk\n",
    "import math\n",
    "\n",
    "class CalculatorApp:\n",
    "    def __init__(self, root):\n",
    "        # Initialize main window properties\n",
    "        root.title(\"Calculator\")\n",
    "\n",
    "        # Labelframe for the result display\n",
    "        self.result_frame = tk.LabelFrame(root, text=\"Результат\")\n",
    "        self.result_frame.pack(pady=20, padx=20)\n",
    "\n",
    "        self.result_var = tk.StringVar()\n",
    "        self.result_label = tk.Label(self.result_frame, textvariable=self.result_var)\n",
    "        self.result_label.pack(pady=10, padx=10)\n",
    "\n",
    "        # Button to compute the value\n",
    "        self.compute_btn = tk.Button(root, text=\"Вычислить\", command=self.compute)\n",
    "        self.compute_btn.pack(side=tk.LEFT, padx=10)\n",
    "\n",
    "        # Checkbutton to control auto compute\n",
    "        self.auto_compute = tk.BooleanVar(value=False)\n",
    "        self.check_btn = tk.Checkbutton(root, text=\"Кнопка работает\", variable=self.auto_compute)\n",
    "        self.check_btn.pack(side=tk.LEFT, padx=10)\n",
    "\n",
    "        # Button to exit\n",
    "        self.exit_btn = tk.Button(root, text=\"Выход\", command=root.quit)\n",
    "        self.exit_btn.pack(side=tk.LEFT, padx=10)\n",
    "\n",
    "        # Spinbox for argument input\n",
    "        self.arg_var = tk.IntVar()\n",
    "        self.spinbox = tk.Spinbox(root, from_=0, to=float('inf'), textvariable=self.arg_var, command=self.auto_update)\n",
    "        self.spinbox_label = tk.Label(root, text=\"Аргумент\")\n",
    "        self.spinbox_label.pack(side=tk.RIGHT, padx=10)\n",
    "        self.spinbox.pack(side=tk.RIGHT, padx=10)\n",
    "\n",
    "        # Combobox to select function\n",
    "        self.func_var = tk.StringVar()\n",
    "        self.func_combobox = ttk.Combobox(root, textvariable=self.func_var, values=[\"sqr(X)\", \"sqrt(X)\"], state=\"readonly\")\n",
    "        self.func_combobox.bind(\"«ComboboxSelected»\", self.auto_update)\n",
    "        self.func_combobox.set(\"sqr(X)\")\n",
    "        self.func_label = tk.Label(root, text=\"Результат\")\n",
    "        self.func_label.pack(side=tk.RIGHT, padx=10)\n",
    "        self.func_combobox.pack(side=tk.RIGHT, padx=10)\n",
    "\n",
    "    def compute(self):\n",
    "        \"\"\"Compute the value based on the selected function and argument.\"\"\"\n",
    "        arg = self.arg_var.get()\n",
    "        func = self.func_var.get()\n",
    "\n",
    "        if func == \"sqr(X)\":\n",
    "            result = arg ** 2\n",
    "        else:\n",
    "            result = math.sqrt(arg)\n",
    "\n",
    "        self.result_var.set(result)\n",
    "\n",
    "    def auto_update(self, event=None):\n",
    "        \"\"\"Automatically compute the value if auto_compute is off.\"\"\"\n",
    "        if not self.auto_compute.get():\n",
    "            self.compute()\n",
    "\n",
    "root = tk.Tk()\n",
    "app = CalculatorApp(root)\n",
    "root.mainloop()"
   ],
   "metadata": {
    "collapsed": false,
    "pycharm": {
     "name": "#%%\n"
    }
   }
  },
  {
   "cell_type": "code",
   "execution_count": null,
   "outputs": [],
   "source": [],
   "metadata": {
    "collapsed": false,
    "pycharm": {
     "name": "#%%\n"
    }
   }
  }
 ],
 "metadata": {
  "kernelspec": {
   "display_name": "Python 3",
   "language": "python",
   "name": "python3"
  },
  "language_info": {
   "codemirror_mode": {
    "name": "ipython",
    "version": 2
   },
   "file_extension": ".py",
   "mimetype": "text/x-python",
   "name": "python",
   "nbconvert_exporter": "python",
   "pygments_lexer": "ipython2",
   "version": "2.7.6"
  }
 },
 "nbformat": 4,
 "nbformat_minor": 0
}