{
 "cells": [
  {
   "cell_type": "markdown",
   "source": [
    "# Лабораторная работа 1\n",
    "## КЛАССЫ И ОБЪЕКТЫ"
   ],
   "metadata": {
    "collapsed": false,
    "pycharm": {
     "name": "#%% md\n"
    }
   }
  },
  {
   "cell_type": "markdown",
   "source": [
    "### Задание 1.\n",
    "Разберите, реализуйте в системе программирования и протестируйте программу, соответствующую примеру лекции: класс TDog (слайд 9). Предусмотрите создание трех экземпляров класса в массиве. Значения полей выберите самостоятельно.\n",
    "\n",
    "\n",
    "![](2023-09-23_09-35-15.png)"
   ],
   "metadata": {
    "collapsed": false,
    "pycharm": {
     "name": "#%% md\n"
    }
   }
  },
  {
   "cell_type": "code",
   "execution_count": 11,
   "outputs": [
    {
     "name": "stdout",
     "output_type": "stream",
     "text": [
      "['Имя: Барон, порода, Лабрадор, размер 25', 'Имя: Макс, порода, Хаски, размер 15', 'Имя: Рекс, порода, Доберман, размер 30']\n",
      "Имя: Барон, порода, Лабрадор, размер 25\n",
      "Имя: Макс, порода, Хаски, размер 15\n",
      "Имя: Рекс, порода, Доберман, размер 30\n"
     ]
    }
   ],
   "source": [
    "\n",
    "from typing import Union\n",
    "\n",
    "\n",
    "class TDog:\n",
    "    def __init__(self, size: Union[int, float], breed: str, name: str):\n",
    "        self.size = size\n",
    "        self.breed = breed\n",
    "        self.name = name\n",
    "\n",
    "\n",
    "dog1 = TDog(25, \"Лабрадор\", \"Барон\")\n",
    "dog2 = TDog(15, \"Хаски\", \"Макс\")\n",
    "dog3 = TDog(30, \"Доберман\", \"Рекс\")\n",
    "\n",
    "\n",
    "dogs = [dog1, dog2, dog3]\n",
    "\n",
    "\n",
    "def get_dog_info(dog: TDog) -> str:\n",
    "    return f\"Имя: {dog.name}, порода, {dog.breed}, размер {dog.size}\"\n",
    "\n",
    "\n",
    "dog_info = list(map(get_dog_info, dogs))\n",
    "print(dog_info)\n",
    "\n",
    "dog_info_print = list(map(print, dog_info))\n",
    "\n",
    "#for info in dog_info:\n",
    "    #print(info)"
   ],
   "metadata": {
    "collapsed": false,
    "pycharm": {
     "name": "#%%\n"
    }
   }
  },
  {
   "cell_type": "markdown",
   "source": [
    "### Задание 2.\n",
    "Разберите, реализуйте в системе программирования и протестируйте программу, соответствующую примеру лекции: класс B с использованием свойств в двух вариантах:\n",
    "\n",
    "**а) с описанием свойства указанием геттера и сеттера (слайд 20);**\n",
    "![](2023-09-23_09-58-33.png)\n",
    "\n",
    "\n",
    "**б) с описанием свойства с использованием декораторов (слайд 21).**\n",
    "![](2023-09-23_10-00-57.png)"
   ],
   "metadata": {
    "collapsed": false,
    "pycharm": {
     "name": "#%% md\n"
    }
   }
  },
  {
   "cell_type": "code",
   "execution_count": 24,
   "outputs": [
    {
     "name": "stdout",
     "output_type": "stream",
     "text": [
      "45\n"
     ]
    }
   ],
   "source": [
    "class B:\n",
    "\tdef __init__(self, initial_value: Union[int, float] = 0):\n",
    "\t\tself.__value = initial_value\n",
    "\n",
    "\n",
    "\tdef __set_value(self, new_value: Union[int, float]):\n",
    "\t\tif isinstance(new_value, int) or isinstance(new_value, float):\n",
    "\t\t\tself.__value = new_value\n",
    "\t\telse:\n",
    "\t\t\tprint(\"Значение должно быть числом\")\n",
    "\n",
    "\n",
    "\tdef __get_value(self):\n",
    "\t\treturn self.__value\n",
    "\tvalue = property(__get_value, __set_value)\n",
    "\n",
    "\n",
    "x=B()\n",
    "x.value = 45\n",
    "print(x.value)\n"
   ],
   "metadata": {
    "collapsed": false,
    "pycharm": {
     "name": "#%%\n"
    }
   }
  },
  {
   "cell_type": "code",
   "execution_count": 6,
   "outputs": [
    {
     "name": "stdout",
     "output_type": "stream",
     "text": [
      "45\n",
      "Удаление свойства\n"
     ]
    }
   ],
   "source": [
    "from typing import Union\n",
    "\n",
    "\n",
    "class B:\n",
    "\t\"\"\"Класс для демонстрации свойств (property) в Python.\"\"\"\n",
    "\tdef __init__(self, initial_value: Union[int, float] = 0):\n",
    "\t\t\"\"\"Конструктор класса. Начальное значение для свойства. По умолчанию 0.\"\"\"\n",
    "\t\tself.__value = initial_value\n",
    "\n",
    "\n",
    "\t@property\n",
    "\tdef value(self):\n",
    "\t\t\"\"\"Геттер для получения значения свойства.\"\"\"\n",
    "\t\treturn self.__value\n",
    "\n",
    "\n",
    "\t@value.setter\n",
    "\tdef value(self, new_value: Union[int, float]):\n",
    "\t\t\"\"\"Сеттер для установки значения свойства.\"\"\"\n",
    "\t\tif isinstance(new_value, int) or isinstance(new_value, float):\n",
    "\t\t    self.__value = new_value\n",
    "\t\telse:\n",
    "\t\t\tprint(\"Значение должно быть числом\")\n",
    "\n",
    "\n",
    "\t@value.deleter\n",
    "\tdef value(self):\n",
    "\t\t\"\"\"Метод, который выполняется при удалении свойства.\"\"\"\n",
    "\t\tprint(\"Удаление свойства\")\n",
    "\t\tdel self.__value\n",
    "\n",
    "\n",
    "x = B()\n",
    "x.value = 45\n",
    "\n",
    "\n",
    "#x.value = 'ff'\n",
    "print(x.value)\n",
    "\n",
    "del x.value"
   ],
   "metadata": {
    "collapsed": false,
    "pycharm": {
     "name": "#%%\n"
    }
   }
  },
  {
   "cell_type": "markdown",
   "source": [
    "### Задание 3.\n",
    "Разберите, реализуйте в системе программирования и протестируйте программу, соответствующую примеру лекции: класс с вычисляемым свойством (слайд 24, для понимания примера рекомендуется предварительно рассмотреть несколько предыдущих слайдов по теме «Вычисляемые свойства»).\n",
    "\n",
    "\n",
    "![](2023-09-23_19-36-46.png)\n",
    "\n",
    "В Python, при обращении к атрибутам класса внутри методов, вы можете использовать два способа:\n",
    "\n",
    "1. `self.__a` - это обращение к приватной переменной `__a` объекта класса через его имя (self). Префикс \"self.\" используется для явного указания, что вы обращаетесь к переменной, принадлежащей данному объекту. Приватные переменные начинаются с двойного подчеркивания и предполагаются для ограничения доступа к ним извне класса, но они всё равно могут быть доступны с помощью \"self\".\n",
    "\n",
    "2. `self.a` - это обращение к публичной переменной `a` объекта класса через его имя (self). Здесь нет ограничений доступа, и переменная `a` может быть доступна и изменена извне класса, если объект доступен для внешних вызовов.\n",
    "\n",
    "\n",
    "### Задание 4.\n",
    "Модифицируйте программу, полученную при выполнении задания 3 так, чтобы класс оказался дополнен еще одним вычисляемыми свойствами – периметром квадрата и длиной диагонали."
   ],
   "metadata": {
    "collapsed": false,
    "pycharm": {
     "name": "#%% md\n"
    }
   }
  },
  {
   "cell_type": "code",
   "execution_count": 2,
   "outputs": [
    {
     "name": "stdout",
     "output_type": "stream",
     "text": [
      "Площадь квадрата: 25\n",
      "Периметр квадрата: 20\n",
      "Длина диагонали квадрата: 7.0710678118654755\n"
     ]
    }
   ],
   "source": [
    "from abc import ABC, abstractmethod\n",
    "from typing import Union\n",
    "\n",
    "class Shape(ABC):\n",
    "    \"\"\" Абстрактный класс фигура.\n",
    "    Абстрактный класс не содержит всех реализаций методов, необходимых для полной работы, это означает, что он содержит один или несколько абстрактных методов.\n",
    "    Абстрактный метод - это только объявление метода, без его подробной реализации.\n",
    "    Абстрактный класс предоставляет интерфейс для подклассов, чтобы избежать дублирования кода. Нет смысла создавать экземпляр абстрактного класса.\n",
    "    Производный подкласс должен реализовать абстрактные методы для создания конкретного класса,\n",
    "    \"\"\"\n",
    "    @abstractmethod\n",
    "    def calculate_area(self):\n",
    "        \"\"\" Абстрактный метод для вычисления площади \"\"\"\n",
    "        pass\n",
    "\n",
    "\n",
    "class Square(Shape):\n",
    "    \"\"\" Класс квадрат, который наследуется от абстрактного класса фигура \"\"\"\n",
    "    def __init__(self, side: Union[int, float]):\n",
    "        \"\"\"\n",
    "        Инициализация объекта класса квадрат.\n",
    "        :param side: Длина стороны квадрата.\n",
    "        \"\"\"\n",
    "        self.__side = side\n",
    "\n",
    "\n",
    "    @property\n",
    "    def side(self):\n",
    "        \"\"\"\n",
    "        Получение значения длины стороны квадрата.\n",
    "        :return: Длина стороны квадрата.\n",
    "        \"\"\"\n",
    "        return self.__side\n",
    "\n",
    "\n",
    "    @side.setter\n",
    "    def side(self, value: Union[int, float]):\n",
    "        \"\"\"\n",
    "        Установка значения длины стороны квадрата.\n",
    "        :param value: Новое значение длины стороны квадрата.\n",
    "        \"\"\"\n",
    "        self.__side = value\n",
    "\n",
    "\n",
    "    def calculate_area(self):\n",
    "        \"\"\"\n",
    "        Вычисление площади квадрата.\n",
    "        :return: Площадь квадрата.\n",
    "        \"\"\"\n",
    "        return self.__side ** 2\n",
    "\n",
    "\n",
    "    def calculate_perimeter(self):\n",
    "        \"\"\"\n",
    "        Вычисление периметра квадрата.\n",
    "        :return: Периметр квадрата.\n",
    "        \"\"\"\n",
    "        return 4 * self.__side\n",
    "\n",
    "\n",
    "    def calculate_diagonal_length(self):\n",
    "        \"\"\"\n",
    "        Вычисление длины диагонали квадрата.\n",
    "        :return: Длина диагонали квадрата.\n",
    "        \"\"\"\n",
    "        return self.__side * (2 ** 0.5)\n",
    "\n",
    "\n",
    "side_length = 5\n",
    "square = Square(side_length)\n",
    "\n",
    "area = square.calculate_area()\n",
    "perimeter = square.calculate_perimeter()\n",
    "diagonal_length = square.calculate_diagonal_length()\n",
    "\n",
    "print(f\"Площадь квадрата: {area}\")\n",
    "print(f\"Периметр квадрата: {perimeter}\")\n",
    "print(f\"Длина диагонали квадрата: {diagonal_length}\")"
   ],
   "metadata": {
    "collapsed": false,
    "pycharm": {
     "name": "#%%\n"
    }
   }
  },
  {
   "cell_type": "markdown",
   "source": [
    "### Задание 5.\n",
    "Разработайте классы для описанных ниже объектов с соблюдением следующих требований:\n",
    "* Доработайте конструктор так, чтобы при его вызове можно было заполнять поля пользовательскими значениями. Все поля при этом сделать закрытыми (приватными).\n",
    "* Для каждого поля включите в класс свойства с сеттерами и геттерами с использованием декораторов\n",
    "* Определите для класса дополнительный метод – форматированный вывод на экран в одну строку основных сведений об объекте (в дальнейшем используйте этот метод для вывода списков,указанных в условии задачи; при этом списки должны представлять собой подобие таблиц).\n",
    "* Программа в окончательном варианте должна обрабатывать массив объектов. Все данные, необходимые для вывода списков a)-c), запросите у пользователя.\n",
    "\n",
    "File: Имя файла, Размер, Дата создания, Количество обращений. Создать массив объектов.\n",
    "Вывести: a) список файлов, упорядоченный в алфавитном порядке; b) список файлов, размер\n",
    "которых превосходит заданный; c) список файлов, число обращений к которым превосходит\n",
    "заданное число."
   ],
   "metadata": {
    "collapsed": false,
    "pycharm": {
     "name": "#%% md\n"
    }
   }
  },
  {
   "cell_type": "code",
   "execution_count": 7,
   "outputs": [
    {
     "name": "stderr",
     "output_type": "stream",
     "text": [
      "C:\\Users\\morph\\AppData\\Local\\Temp\\ipykernel_22212\\3154361625.py:178: FutureWarning: The frame.append method is deprecated and will be removed from pandas in a future version. Use pandas.concat instead.\n",
      "  files_df = files_df.append(new_file_data, ignore_index=True)\n"
     ]
    },
    {
     "name": "stdout",
     "output_type": "stream",
     "text": [
      "Информация о файлах:\n",
      "        имя  размер        дата_создания  количество_обращений\n",
      "0     file1    1000  2023-01-01 00:00:00                     5\n",
      "1     file2    2000  2023-02-01 00:00:00                    10\n",
      "2  file2323   23424                 4256                  2323\n",
      "Файлы, отсортированные по имени:\n",
      "        имя  размер        дата_создания  количество_обращений\n",
      "0     file1    1000  2023-01-01 00:00:00                     5\n",
      "1     file2    2000  2023-02-01 00:00:00                    10\n",
      "2  file2323   23424                 4256                  2323\n",
      "Файлы, размер которых больше 23:\n",
      "        имя  размер        дата_создания  количество_обращений\n",
      "0     file1    1000  2023-01-01 00:00:00                     5\n",
      "1     file2    2000  2023-02-01 00:00:00                    10\n",
      "2  file2323   23424                 4256                  2323\n",
      "Файлы, количество обращений к которым больше 12:\n",
      "        имя  размер дата_создания  количество_обращений\n",
      "2  file2323   23424          4256                  2323\n"
     ]
    }
   ],
   "source": [
    "import pandas as pd\n",
    "from datetime import date\n",
    "from typing import Union\n",
    "\n",
    "class File:\n",
    "    def __init__(self, name: Union[str, int], size: int, creation_date: date, access_count: int):\n",
    "        \"\"\"\n",
    "        Инициализация объекта класса File.\n",
    "\n",
    "        :param name: Имя файла (строка или число).\n",
    "        :param size: Размер файла в байтах (целое число).\n",
    "        :param creation_date: Дата создания файла (объект date).\n",
    "        :param access_count: Количество обращений к файлу (целое число).\n",
    "        \"\"\"\n",
    "        self.__name = name\n",
    "        self.__size = size\n",
    "        self.__creation_date = creation_date\n",
    "        self.__access_count = access_count\n",
    "\n",
    "    # Геттеры для чтения значений атрибутов\n",
    "    @property\n",
    "    def name(self):\n",
    "        \"\"\"\n",
    "        Получение имени файла.\n",
    "        :return: Имя файла.\n",
    "        \"\"\"\n",
    "        return self.__name\n",
    "\n",
    "    @property\n",
    "    def size(self):\n",
    "        \"\"\"\n",
    "        Получение размера файла.\n",
    "        :return: Размер файла.\n",
    "        \"\"\"\n",
    "        return self.__size\n",
    "\n",
    "    @property\n",
    "    def creation_date(self):\n",
    "        \"\"\"\n",
    "        Получение даты создания файла.\n",
    "        :return: Дата создания файла.\n",
    "        \"\"\"\n",
    "        return self.__creation_date\n",
    "\n",
    "    @property\n",
    "    def access_count(self):\n",
    "        \"\"\"\n",
    "        Получение количества обращений к файлу.\n",
    "        :return: Количество обращений к файлу.\n",
    "        \"\"\"\n",
    "        return self.__access_count\n",
    "\n",
    "    # Сеттеры для изменения значений атрибутов\n",
    "    @name.setter\n",
    "    def name(self, value: Union[str, int]):\n",
    "        \"\"\"\n",
    "        Установка имени файла.\n",
    "        :param value: Новое имя файла.\n",
    "        \"\"\"\n",
    "        self.__name = value\n",
    "\n",
    "    @size.setter\n",
    "    def size(self, value: int):\n",
    "        \"\"\"\n",
    "        Установка размера файла.\n",
    "        :param value: Новый размер файла.\n",
    "        \"\"\"\n",
    "        self.__size = value\n",
    "\n",
    "    @creation_date.setter\n",
    "    def creation_date(self, value: date):\n",
    "        \"\"\"\n",
    "        Установка даты создания файла.\n",
    "        :param value: Новая дата создания файла.\n",
    "        \"\"\"\n",
    "        self.__creation_date = value\n",
    "\n",
    "    @access_count.setter\n",
    "    def access_count(self, value: int):\n",
    "        \"\"\"\n",
    "        Установка количества обращений к файлу.\n",
    "        :param value: Новое количество обращений к файлу.\n",
    "        \"\"\"\n",
    "        self.__access_count = value\n",
    "\n",
    "    def formatted_info(self):\n",
    "        \"\"\"\n",
    "        Возвращает форматированную информацию о файле.\n",
    "        :return: Строка с информацией о файле.\n",
    "        \"\"\"\n",
    "        return f\"Имя файла: {self.__name}, размер файла: {self.__size}, дата создания: {self.__creation_date}, количество обращений к файлу: {self.__access_count}\"\n",
    "\n",
    "\n",
    "\n",
    "def create_file_object():\n",
    "    \"\"\"\n",
    "    Создание объекта File на основе пользовательского ввода.\n",
    "    :return: Объект File с данными из ввода пользователя.\n",
    "    \"\"\"\n",
    "    name = input(\"Введите имя файла: \")\n",
    "    size = int(input(\"Введите размер файла: \"))\n",
    "    creation_date = input(\"Введите дату создания файла: \")\n",
    "    access_count = int(input(\"Введите количество обращений к файлу: \"))\n",
    "    return File(name, size, creation_date, access_count)\n",
    "\n",
    "\n",
    "'''\n",
    "def display_files_sorted_by_name(files):\n",
    "    \"\"\"\n",
    "    Вывод списка файлов, отсортированных по имени в алфавитном порядке.\n",
    "    :param files: Список объектов File.\n",
    "    \"\"\"\n",
    "    print(\"Список файлов в алфавитном порядке:\")\n",
    "    sorted_files_by_name = sorted(files, key=lambda x: x.name)\n",
    "    list(map(lambda x: print(x.formatted_info()), sorted_files_by_name))\n",
    "\n",
    "def display_files_filtered_by_size(files):\n",
    "    \"\"\"\n",
    "    Вывод списка файлов с фильтрацией по размеру.\n",
    "    :param files: Список объектов File.\n",
    "    \"\"\"\n",
    "    size_threshold = int(input(\"Введите размер для фильтрации файлов: \"))\n",
    "    print(f\"Список файлов с размером больше {size_threshold}:\")\n",
    "    filtered_files_by_size = [file for file in files if file.size > size_threshold]\n",
    "    list(map(lambda x: print(x.formatted_info()), filtered_files_by_size))\n",
    "\n",
    "\n",
    "def display_files_filtered_by_access_count(files):\n",
    "    \"\"\"\n",
    "    Вывод списка файлов с фильтрацией по количеству обращений.\n",
    "    :param files: Список объектов File.\n",
    "    \"\"\"\n",
    "    access_count_threshold = int(input(\"Введите количество обращений для фильтрации файлов: \"))\n",
    "    print(f\"Список файлов с числом обращений больше {access_count_threshold}:\")\n",
    "    filtered_files_by_access_count = [file for file in files if file.access_count > access_count_threshold]\n",
    "    list(map(lambda x: print(x.formatted_info()), filtered_files_by_access_count))\n",
    "'''\n",
    "\n",
    "def display_files_sorted_by_name(files_df):\n",
    "    sorted_files = files_df.sort_values(by='имя')\n",
    "    print(\"Файлы, отсортированные по имени:\")\n",
    "    print(sorted_files)\n",
    "\n",
    "def display_files_filtered_by_size(files_df, size_threshold):\n",
    "    filtered_files = files_df[files_df['размер'] > size_threshold]\n",
    "    print(f\"Файлы, размер которых больше {size_threshold}:\")\n",
    "    print(filtered_files)\n",
    "\n",
    "def display_files_filtered_by_access_count(files_df, access_count_threshold):\n",
    "    filtered_files = files_df[files_df['количество_обращений'] > access_count_threshold]\n",
    "    print(f\"Файлы, количество обращений к которым больше {access_count_threshold}:\")\n",
    "    print(filtered_files)\n",
    "\n",
    "# Создаем список файлов\n",
    "files_data = [\n",
    "    {\"имя\": \"file1\", \"размер\": 1000, \"дата_создания\": \"2023-01-01\", \"количество_обращений\": 5},\n",
    "    {\"имя\": \"file2\", \"размер\": 2000, \"дата_создания\": \"2023-02-01\", \"количество_обращений\": 10},\n",
    "]\n",
    "\n",
    "# Конвертируем данные в DataFrame\n",
    "files_df = pd.DataFrame(files_data)\n",
    "files_df['дата_создания'] = pd.to_datetime(files_df['дата_создания'])\n",
    "\n",
    "\n",
    "# Спрашиваем пользователя, хочет ли он добавить файлы\n",
    "while True:\n",
    "    user_input = input(\"Хотите добавить файл? (да/нет): \")\n",
    "    if user_input.lower() == \"да\":\n",
    "        # Создаем объект файла на основе пользовательского ввода\n",
    "        file = create_file_object()\n",
    "        # Добавляем данные файла в DataFrame\n",
    "        new_file_data = {\n",
    "            \"имя\": file.name,\n",
    "            \"размер\": file.size,\n",
    "            \"дата_создания\": file.creation_date,\n",
    "            \"количество_обращений\": file.access_count\n",
    "        }\n",
    "        files_df = files_df.append(new_file_data, ignore_index=True)\n",
    "    elif user_input.lower() == \"нет\":\n",
    "        break\n",
    "    else:\n",
    "        print(\"Пожалуйста, введите 'да' или 'нет'.\")\n",
    "\n",
    "# Выводим информацию о файлах\n",
    "print(\"Информация о файлах:\")\n",
    "print(files_df)\n",
    "\n",
    "display_files_sorted_by_name(files_df)\n",
    "size_threshold = int(input(\"Введите пороговый размер файла для фильтрации: \"))\n",
    "display_files_filtered_by_size(files_df, size_threshold)\n",
    "access_count_threshold = int(input(\"Введите пороговое количество обращений для фильтрации: \"))\n",
    "display_files_filtered_by_access_count(files_df, access_count_threshold)\n",
    "\n",
    "\n",
    "#num_files = int(input(\"Введите количество файлов: \"))\n",
    "#files = list(map(lambda _: create_file_object(), range(num_files)))\n",
    "\n",
    "# Вызываем функции для вывода списков\n",
    "#display_files_sorted_by_name(files)\n",
    "#display_files_filtered_by_size(files)\n",
    "#display_files_filtered_by_access_count(files)\n",
    "\n"
   ],
   "metadata": {
    "collapsed": false,
    "pycharm": {
     "name": "#%%\n"
    }
   }
  },
  {
   "cell_type": "code",
   "execution_count": null,
   "outputs": [],
   "source": [],
   "metadata": {
    "collapsed": false,
    "pycharm": {
     "name": "#%%\n"
    }
   }
  }
 ],
 "metadata": {
  "kernelspec": {
   "display_name": "Python 3",
   "language": "python",
   "name": "python3"
  },
  "language_info": {
   "codemirror_mode": {
    "name": "ipython",
    "version": 2
   },
   "file_extension": ".py",
   "mimetype": "text/x-python",
   "name": "python",
   "nbconvert_exporter": "python",
   "pygments_lexer": "ipython2",
   "version": "2.7.6"
  }
 },
 "nbformat": 4,
 "nbformat_minor": 0
}