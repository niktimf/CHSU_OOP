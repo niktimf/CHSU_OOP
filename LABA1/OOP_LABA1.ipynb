{
 "cells": [
  {
   "cell_type": "markdown",
   "source": [
    "# Лабораторная работа 1\n",
    "## КЛАССЫ И ОБЪЕКТЫ"
   ],
   "metadata": {
    "collapsed": false,
    "pycharm": {
     "name": "#%% md\n"
    }
   }
  },
  {
   "cell_type": "markdown",
   "source": [
    "### Задание 1.\n",
    "Разберите, реализуйте в системе программирования и протестируйте программу, соответствующую примеру лекции: класс TDog (слайд 9). Предусмотрите создание трех экземпляров класса в массиве. Значения полей выберите самостоятельно.\n",
    "\n",
    "\n",
    "![](2023-09-23_09-35-15.png)"
   ],
   "metadata": {
    "collapsed": false,
    "pycharm": {
     "name": "#%% md\n"
    }
   }
  },
  {
   "cell_type": "code",
   "execution_count": 11,
   "outputs": [
    {
     "name": "stdout",
     "output_type": "stream",
     "text": [
      "['Имя: Барон, порода, Лабрадор, размер 25', 'Имя: Макс, порода, Хаски, размер 15', 'Имя: Рекс, порода, Доберман, размер 30']\n",
      "Имя: Барон, порода, Лабрадор, размер 25\n",
      "Имя: Макс, порода, Хаски, размер 15\n",
      "Имя: Рекс, порода, Доберман, размер 30\n"
     ]
    }
   ],
   "source": [
    "\n",
    "from typing import Union\n",
    "\n",
    "\n",
    "class TDog:\n",
    "    def __init__(self, size: Union[int, float], breed: str, name: str):\n",
    "        self.size = size\n",
    "        self.breed = breed\n",
    "        self.name = name\n",
    "\n",
    "\n",
    "dog1 = TDog(25, \"Лабрадор\", \"Барон\")\n",
    "dog2 = TDog(15, \"Хаски\", \"Макс\")\n",
    "dog3 = TDog(30, \"Доберман\", \"Рекс\")\n",
    "\n",
    "\n",
    "dogs = [dog1, dog2, dog3]\n",
    "\n",
    "\n",
    "def get_dog_info(dog: TDog) -> str:\n",
    "    return f\"Имя: {dog.name}, порода, {dog.breed}, размер {dog.size}\"\n",
    "\n",
    "\n",
    "dog_info = list(map(get_dog_info, dogs))\n",
    "print(dog_info)\n",
    "\n",
    "dog_info_print = list(map(print, dog_info))\n",
    "\n",
    "#for info in dog_info:\n",
    "    #print(info)"
   ],
   "metadata": {
    "collapsed": false,
    "pycharm": {
     "name": "#%%\n"
    }
   }
  },
  {
   "cell_type": "markdown",
   "source": [
    "### Задание 2.\n",
    "Разберите, реализуйте в системе программирования и протестируйте программу, соответствующую примеру лекции: класс B с использованием свойств в двух вариантах:\n",
    "\n",
    "**а) с описанием свойства указанием геттера и сеттера (слайд 20);**\n",
    "![](2023-09-23_09-58-33.png)\n",
    "\n",
    "\n",
    "**б) с описанием свойства с использованием декораторов (слайд 21).**\n",
    "![](2023-09-23_10-00-57.png)"
   ],
   "metadata": {
    "collapsed": false,
    "pycharm": {
     "name": "#%% md\n"
    }
   }
  },
  {
   "cell_type": "code",
   "execution_count": 24,
   "outputs": [
    {
     "name": "stdout",
     "output_type": "stream",
     "text": [
      "45\n"
     ]
    }
   ],
   "source": [
    "class B:\n",
    "\tdef __init__(self, initial_value: Union[int, float] = 0):\n",
    "\t\tself.__value = initial_value\n",
    "\n",
    "\n",
    "\tdef __set_value(self, new_value: Union[int, float]):\n",
    "\t\tif isinstance(new_value, int) or isinstance(new_value, float):\n",
    "\t\t\tself.__value = new_value\n",
    "\t\telse:\n",
    "\t\t\tprint(\"Значение должно быть числом\")\n",
    "\n",
    "\n",
    "\tdef __get_value(self):\n",
    "\t\treturn self.__value\n",
    "\tvalue = property(__get_value, __set_value)\n",
    "\n",
    "\n",
    "x=B()\n",
    "x.value = 45\n",
    "print(x.value)\n"
   ],
   "metadata": {
    "collapsed": false,
    "pycharm": {
     "name": "#%%\n"
    }
   }
  },
  {
   "cell_type": "code",
   "execution_count": 21,
   "outputs": [
    {
     "name": "stdout",
     "output_type": "stream",
     "text": [
      "45\n",
      "Удаление свойства\n"
     ]
    }
   ],
   "source": [
    "from typing import Union\n",
    "\n",
    "\n",
    "class B:\n",
    "\t\"\"\"Класс для демонстрации свойств (property) в Python.\"\"\"\n",
    "\tdef __init__(self, initial_value: Union[int, float] = 0):\n",
    "\t\t\"\"\"Конструктор класса. Начальное значение для свойства. По умолчанию 0.\"\"\"\n",
    "\t\tself.__value = initial_value\n",
    "\n",
    "\n",
    "\t@property\n",
    "\tdef value(self):\n",
    "\t\t\"\"\"Геттер для получения значения свойства.\"\"\"\n",
    "\t\treturn self.__value\n",
    "\n",
    "\n",
    "\t@value.setter\n",
    "\tdef value(self, new_value: Union[int, float]):\n",
    "\t\t\"\"\"Сеттер для установки значения свойства.\"\"\"\n",
    "\t\tif isinstance(new_value, int) or isinstance(new_value, float):\n",
    "\t\t\tself.__value = new_value\n",
    "\t\telse:\n",
    "\t\t\tprint(\"Значение должно быть числом\")\n",
    "\n",
    "\n",
    "\t@value.deleter\n",
    "\tdef value(self):\n",
    "\t\t\"\"\"Метод, который выполняется при удалении свойства.\"\"\"\n",
    "\t\tprint(\"Удаление свойства\")\n",
    "\t\tdel self.__value\n",
    "\n",
    "\n",
    "x = B()\n",
    "x.value = 45\n",
    "#x.value = 'ff'\n",
    "print(x.value)\n",
    "\n",
    "del x.value\n"
   ],
   "metadata": {
    "collapsed": false,
    "pycharm": {
     "name": "#%%\n"
    }
   }
  },
  {
   "cell_type": "markdown",
   "source": [
    "### Задание 3.\n",
    "Разберите, реализуйте в системе программирования и протестируйте программу, соответствующую примеру лекции: класс с вычисляемым свойством (слайд 24, для понимания примера рекомендуется предварительно рассмотреть несколько предыдущих слайдов по теме «Вычисляемые свойства»).\n",
    "\n",
    "\n",
    "![](2023-09-23_19-36-46.png)\n",
    "\n",
    "В Python, при обращении к атрибутам класса внутри методов, вы можете использовать два способа:\n",
    "\n",
    "1. `self.__a` - это обращение к приватной переменной `__a` объекта класса через его имя (self). Префикс \"self.\" используется для явного указания, что вы обращаетесь к переменной, принадлежащей данному объекту. Приватные переменные начинаются с двойного подчеркивания и предполагаются для ограничения доступа к ним извне класса, но они всё равно могут быть доступны с помощью \"self\".\n",
    "\n",
    "2. `self.a` - это обращение к публичной переменной `a` объекта класса через его имя (self). Здесь нет ограничений доступа, и переменная `a` может быть доступна и изменена извне класса, если объект доступен для внешних вызовов.\n",
    "\n",
    "\n",
    "### Задание 4.\n",
    "Модифицируйте программу, полученную при выполнении задания 3 так, чтобы класс оказался дополнен еще одним вычисляемыми свойствами – периметром квадрата и длиной диагонали."
   ],
   "metadata": {
    "collapsed": false,
    "pycharm": {
     "name": "#%% md\n"
    }
   }
  },
  {
   "cell_type": "code",
   "execution_count": 2,
   "outputs": [
    {
     "name": "stdout",
     "output_type": "stream",
     "text": [
      "Площадь квадрата: 25\n",
      "Периметр квадрата: 20\n",
      "Длина диагонали квадрата: 7.0710678118654755\n"
     ]
    }
   ],
   "source": [
    "from abc import ABC, abstractmethod\n",
    "from typing import Union\n",
    "\n",
    "class Shape(ABC):\n",
    "    \"\"\" Абстрактный класс фигура.\n",
    "    Абстрактный класс не содержит всех реализаций методов, необходимых для полной работы, это означает, что он содержит один или несколько абстрактных методов.\n",
    "    Абстрактный метод - это только объявление метода, без его подробной реализации.\n",
    "    Абстрактный класс предоставляет интерфейс для подклассов, чтобы избежать дублирования кода. Нет смысла создавать экземпляр абстрактного класса.\n",
    "    Производный подкласс должен реализовать абстрактные методы для создания конкретного класса,\n",
    "    \"\"\"\n",
    "    @abstractmethod\n",
    "    def calculate_area(self):\n",
    "        \"\"\" Абстрактный метод для вычисления площади \"\"\"\n",
    "        pass\n",
    "\n",
    "\n",
    "class Square(Shape):\n",
    "    \"\"\" Класс квадрат, который наследуется от абстрактного класса фигура \"\"\"\n",
    "    def __init__(self, side: Union[int, float]):\n",
    "        \"\"\"\n",
    "        Инициализация объекта класса квадрат.\n",
    "        :param side: Длина стороны квадрата.\n",
    "        \"\"\"\n",
    "        self.__side = side\n",
    "\n",
    "\n",
    "    @property\n",
    "    def side(self):\n",
    "        \"\"\"\n",
    "        Получение значения длины стороны квадрата.\n",
    "        :return: Длина стороны квадрата.\n",
    "        \"\"\"\n",
    "        return self.__side\n",
    "\n",
    "\n",
    "    @side.setter\n",
    "    def side(self, value: Union[int, float]):\n",
    "        \"\"\"\n",
    "        Установка значения длины стороны квадрата.\n",
    "        :param value: Новое значение длины стороны квадрата.\n",
    "        \"\"\"\n",
    "        self.__side = value\n",
    "\n",
    "\n",
    "    def calculate_area(self):\n",
    "        \"\"\"\n",
    "        Вычисление площади квадрата.\n",
    "        :return: Площадь квадрата.\n",
    "        \"\"\"\n",
    "        return self.__side ** 2\n",
    "\n",
    "\n",
    "    def calculate_perimeter(self):\n",
    "        \"\"\"\n",
    "        Вычисление периметра квадрата.\n",
    "        :return: Периметр квадрата.\n",
    "        \"\"\"\n",
    "        return 4 * self.__side\n",
    "\n",
    "\n",
    "    def calculate_diagonal_length(self):\n",
    "        \"\"\"\n",
    "        Вычисление длины диагонали квадрата.\n",
    "        :return: Длина диагонали квадрата.\n",
    "        \"\"\"\n",
    "        return self.__side * (2 ** 0.5)\n",
    "\n",
    "\n",
    "side_length = 5\n",
    "square = Square(side_length)\n",
    "\n",
    "area = square.calculate_area()\n",
    "perimeter = square.calculate_perimeter()\n",
    "diagonal_length = square.calculate_diagonal_length()\n",
    "\n",
    "print(f\"Площадь квадрата: {area}\")\n",
    "print(f\"Периметр квадрата: {perimeter}\")\n",
    "print(f\"Длина диагонали квадрата: {diagonal_length}\")"
   ],
   "metadata": {
    "collapsed": false,
    "pycharm": {
     "name": "#%%\n"
    }
   }
  },
  {
   "cell_type": "code",
   "execution_count": null,
   "outputs": [],
   "source": [],
   "metadata": {
    "collapsed": false,
    "pycharm": {
     "name": "#%%\n"
    }
   }
  },
  {
   "cell_type": "code",
   "execution_count": null,
   "outputs": [],
   "source": [],
   "metadata": {
    "collapsed": false,
    "pycharm": {
     "name": "#%%\n"
    }
   }
  },
  {
   "cell_type": "code",
   "execution_count": null,
   "outputs": [],
   "source": [],
   "metadata": {
    "collapsed": false,
    "pycharm": {
     "name": "#%%\n"
    }
   }
  }
 ],
 "metadata": {
  "kernelspec": {
   "display_name": "Python 3",
   "language": "python",
   "name": "python3"
  },
  "language_info": {
   "codemirror_mode": {
    "name": "ipython",
    "version": 2
   },
   "file_extension": ".py",
   "mimetype": "text/x-python",
   "name": "python",
   "nbconvert_exporter": "python",
   "pygments_lexer": "ipython2",
   "version": "2.7.6"
  }
 },
 "nbformat": 4,
 "nbformat_minor": 0
}